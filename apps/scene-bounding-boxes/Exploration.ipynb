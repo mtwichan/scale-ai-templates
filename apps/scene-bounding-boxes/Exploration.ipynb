{
 "cells": [
  {
   "cell_type": "code",
   "execution_count": 33,
   "metadata": {},
   "outputs": [],
   "source": [
    "import base64\n",
    "from io import BytesIO\n",
    "\n",
    "import cv2\n",
    "import urllib\n",
    "import os\n",
    "import pandas as pd\n",
    "import plotly.express as px\n",
    "import plotly.graph_objects as go\n",
    "import numpy as np"
   ]
  },
  {
   "cell_type": "code",
   "execution_count": 34,
   "metadata": {},
   "outputs": [],
   "source": [
    "# Path to the Streamlit public S3 bucket\n",
    "DATA_URL_ROOT = \"https://streamlit-self-driving.s3-us-west-2.amazonaws.com/\""
   ]
  },
  {
   "cell_type": "markdown",
   "metadata": {},
   "source": [
    "# Functions"
   ]
  },
  {
   "cell_type": "code",
   "execution_count": 35,
   "metadata": {},
   "outputs": [],
   "source": [
    "def get_selected_frames(summary, label, min_elts, max_elts):\n",
    "    return summary[np.logical_and(summary[label] >= min_elts, summary[label] <= max_elts)].index"
   ]
  },
  {
   "cell_type": "code",
   "execution_count": 36,
   "metadata": {},
   "outputs": [],
   "source": [
    "def load_image(url):\n",
    "    with urllib.request.urlopen(url) as response:\n",
    "        image = np.asarray(bytearray(response.read()), dtype=\"uint8\")\n",
    "    image = cv2.imdecode(image, cv2.IMREAD_COLOR)\n",
    "    image = image[:, :, [2, 1, 0]] # BGR -> RGB\n",
    "    return image"
   ]
  },
  {
   "cell_type": "code",
   "execution_count": 37,
   "metadata": {},
   "outputs": [],
   "source": [
    "def load_network(config_path, weights_path):\n",
    "    net = cv2.dnn.readNetFromDarknet(config_path, weights_path)\n",
    "    output_layer_names = net.getLayerNames()\n",
    "    output_layer_names = [output_layer_names[i[0] - 1] for i in net.getUnconnectedOutLayers()]\n",
    "    return net, output_layer_names"
   ]
  },
  {
   "cell_type": "code",
   "execution_count": 38,
   "metadata": {},
   "outputs": [],
   "source": [
    "def create_summary(metadata):\n",
    "    one_hot_encoded = pd.get_dummies(metadata[[\"frame\", \"label\"]], columns=[\"label\"])\n",
    "    summary = one_hot_encoded.groupby([\"frame\"]).sum().rename(columns={\n",
    "        \"label_biker\": \"biker\",\n",
    "        \"label_car\": \"car\",\n",
    "        \"label_pedestrian\": \"pedestrian\",\n",
    "        \"label_trafficLight\": \"traffic light\",\n",
    "        \"label_truck\": \"truck\"\n",
    "    })\n",
    "    return summary"
   ]
  },
  {
   "cell_type": "code",
   "execution_count": 154,
   "metadata": {},
   "outputs": [],
   "source": [
    "\n",
    "def yolo_v3(image, net, output_layer_names, confidence_threshold, overlap_threshold):\n",
    "    # Run the YOLO neural net.\n",
    "    blob = cv2.dnn.blobFromImage(image, 1 / 255.0, (416, 416), swapRB=True, crop=False)\n",
    "    net.setInput(blob)\n",
    "    layer_outputs = net.forward(output_layer_names)\n",
    "\n",
    "    # Supress detections in case of too low confidence or too much overlap.\n",
    "    boxes, confidences, class_IDs = [], [], []\n",
    "    H, W = image.shape[:2]\n",
    "    for output in layer_outputs:\n",
    "        for detection in output:\n",
    "            scores = detection[5:]\n",
    "            classID = np.argmax(scores)\n",
    "            confidence = scores[classID]\n",
    "            if confidence > confidence_threshold:\n",
    "                box = detection[0:4] * np.array([W, H, W, H])\n",
    "                centerX, centerY, width, height = box.astype(\"int\")\n",
    "                x, y = int(centerX - (width / 2)), int(centerY - (height / 2))\n",
    "                boxes.append([x, y, int(width), int(height)])\n",
    "                confidences.append(float(confidence))\n",
    "                class_IDs.append(classID)\n",
    "    indices = cv2.dnn.NMSBoxes(boxes, confidences, confidence_threshold, overlap_threshold)\n",
    "\n",
    "    # Map from YOLO labels to Udacity labels.\n",
    "    UDACITY_LABELS = {\n",
    "        0: 'pedestrian',\n",
    "        1: 'biker',\n",
    "        2: 'car',\n",
    "        3: 'biker',\n",
    "        5: 'truck',\n",
    "        7: 'truck',\n",
    "        9: 'trafficLight'\n",
    "    }\n",
    "    xmin, xmax, ymin, ymax, labels, scores = [], [], [], [], [], []\n",
    "    if len(indices) > 0:\n",
    "        # loop over the indexes we are keeping\n",
    "        for i in indices.flatten():\n",
    "            label = UDACITY_LABELS.get(class_IDs[i], None)\n",
    "            if label is None:\n",
    "                continue\n",
    "\n",
    "            # extract the bounding box coordinates\n",
    "            x, y, w, h = boxes[i][0], boxes[i][1], boxes[i][2], boxes[i][3]\n",
    "\n",
    "            xmin.append(x)\n",
    "            ymin.append(y)\n",
    "            xmax.append(x+w)\n",
    "            ymax.append(y+h)\n",
    "            labels.append(label)\n",
    "            scores.append(confidences[i])\n",
    "\n",
    "    boxes = pd.DataFrame({\n",
    "        \"xmin\": xmin, \"ymin\": ymin, \n",
    "        \"xmax\": xmax, \"ymax\": ymax, \n",
    "        \"label\": labels, 'confidence': scores})\n",
    "    \n",
    "    return boxes"
   ]
  },
  {
   "cell_type": "code",
   "execution_count": 132,
   "metadata": {},
   "outputs": [],
   "source": [
    "yolo_boxes = yolo_v3(image, net, output_layer_names, confidence_threshold, overlap_threshold)"
   ]
  },
  {
   "cell_type": "markdown",
   "metadata": {},
   "source": [
    "# Plot functions"
   ]
  },
  {
   "cell_type": "code",
   "execution_count": 40,
   "metadata": {},
   "outputs": [],
   "source": [
    "def array_to_b64(img, enc='jpg'):\n",
    "    img = cv2.cvtColor(img, cv2.COLOR_RGB2BGR)\n",
    "    is_success, buffer = cv2.imencode(f\".{enc}\", img)\n",
    "    io_buf = BytesIO(buffer)\n",
    "    encoded = base64.b64encode(io_buf.getvalue()).decode(\"utf-8\")\n",
    "    return f'data:img/{enc};base64, ' + encoded"
   ]
  },
  {
   "cell_type": "code",
   "execution_count": 91,
   "metadata": {},
   "outputs": [],
   "source": [
    "def add_bbox(fig, x0, y0, x1, y1, color='red', opacity=0.5, name=\"\"):\n",
    "    fig.add_scatter(\n",
    "        x=[x0,x1,x1,x0,x0], \n",
    "        y=[y0,y0,y1,y1,y0], \n",
    "        mode=\"lines\", \n",
    "        fill=\"toself\", \n",
    "        opacity=opacity,\n",
    "        marker_color=color,\n",
    "        hoveron=\"fills\", \n",
    "        hoverlabel_namelength=-1,\n",
    "        name=name\n",
    "    )"
   ]
  },
  {
   "cell_type": "code",
   "execution_count": 151,
   "metadata": {},
   "outputs": [],
   "source": [
    "def display_images_with_bbox(image, boxes, title):\n",
    "    LABEL_COLORS = {\n",
    "        \"car\": ['LightSkyBlue', 'RoyalBlue'],\n",
    "        \"pedestrian\": ['red', 'darkred'],\n",
    "        \"truck\": ['green', 'darkgreen'],\n",
    "        \"trafficLight\": ['lightyellow', 'yellow'],\n",
    "        \"biker\": ['orange', 'darkorange'],\n",
    "    }\n",
    "    img_height, img_width = image.shape[:2]\n",
    "    \n",
    "    fig = go.Figure()\n",
    "    # Add invisible scatter trace.\n",
    "    # This trace is added to help the autoresize logic work.\n",
    "    fig.add_trace(\n",
    "        go.Scatter(\n",
    "            x=[img_width*.05, img_width*.95],\n",
    "            y=[img_height*.95, img_height*.05],\n",
    "            mode=\"markers\",\n",
    "            marker_opacity=0,\n",
    "            hoverinfo='none'\n",
    "        )\n",
    "    )\n",
    "    fig.add_layout_image(dict(\n",
    "        source=array_to_b64(image),\n",
    "        x=0, y=0,\n",
    "        xref=\"x\", yref=\"y\",\n",
    "        sizex=img_width, \n",
    "        sizey=img_height,\n",
    "        sizing='stretch',\n",
    "        opacity=1,\n",
    "        layer=\"below\"\n",
    "    ))\n",
    "\n",
    "    for index, box in boxes.iterrows():\n",
    "        fill_col, line_col = LABEL_COLORS[box.label]\n",
    "        add_bbox(\n",
    "            fig,\n",
    "            x0=box.xmin, y0=box.ymin,\n",
    "            x1=box.xmax, y1=box.ymax,\n",
    "            opacity=0.5,\n",
    "            color=fill_col,\n",
    "            name=f'class={box.label}<br>confidence={box.confidence:.3f}'\n",
    "        )\n",
    "        \n",
    "    # Adapt axes to the right width and height, lock aspect ratio\n",
    "    fig.update_xaxes(showgrid=False, visible=False, constrain='domain', range=[0, img_width])\n",
    "    fig.update_yaxes(showgrid=False, visible=False, scaleanchor='x', scaleratio=1, range=[img_height, 0])\n",
    "    fig.update_layout(title=title, showlegend=False)\n",
    "\n",
    "    return fig"
   ]
  },
  {
   "cell_type": "code",
   "execution_count": 90,
   "metadata": {},
   "outputs": [
    {
     "data": {
      "application/vnd.plotly.v1+json": {
       "config": {
        "plotlyServerURL": "https://plot.ly"
       },
       "data": [
        {
         "fill": "toself",
         "hoverinfo": "x+y",
         "hoveron": "points+fills",
         "mode": "lines",
         "type": "scatter",
         "x": [
          3,
          4,
          4,
          3,
          3
         ],
         "y": [
          1,
          1,
          2,
          2,
          1
         ]
        },
        {
         "fill": "toself",
         "hoverlabel": {
          "namelength": -1
         },
         "hoveron": "fills",
         "marker": {
          "color": "green"
         },
         "mode": "lines",
         "name": "CLASS<BR>confidence",
         "opacity": 0.5,
         "type": "scatter",
         "x": [
          1,
          2,
          2,
          1,
          1
         ],
         "y": [
          1,
          1,
          2,
          2,
          1
         ]
        }
       ],
       "layout": {
        "showlegend": false,
        "template": {
         "data": {
          "bar": [
           {
            "error_x": {
             "color": "#2a3f5f"
            },
            "error_y": {
             "color": "#2a3f5f"
            },
            "marker": {
             "line": {
              "color": "#E5ECF6",
              "width": 0.5
             }
            },
            "type": "bar"
           }
          ],
          "barpolar": [
           {
            "marker": {
             "line": {
              "color": "#E5ECF6",
              "width": 0.5
             }
            },
            "type": "barpolar"
           }
          ],
          "carpet": [
           {
            "aaxis": {
             "endlinecolor": "#2a3f5f",
             "gridcolor": "white",
             "linecolor": "white",
             "minorgridcolor": "white",
             "startlinecolor": "#2a3f5f"
            },
            "baxis": {
             "endlinecolor": "#2a3f5f",
             "gridcolor": "white",
             "linecolor": "white",
             "minorgridcolor": "white",
             "startlinecolor": "#2a3f5f"
            },
            "type": "carpet"
           }
          ],
          "choropleth": [
           {
            "colorbar": {
             "outlinewidth": 0,
             "ticks": ""
            },
            "type": "choropleth"
           }
          ],
          "contour": [
           {
            "colorbar": {
             "outlinewidth": 0,
             "ticks": ""
            },
            "colorscale": [
             [
              0,
              "#0d0887"
             ],
             [
              0.1111111111111111,
              "#46039f"
             ],
             [
              0.2222222222222222,
              "#7201a8"
             ],
             [
              0.3333333333333333,
              "#9c179e"
             ],
             [
              0.4444444444444444,
              "#bd3786"
             ],
             [
              0.5555555555555556,
              "#d8576b"
             ],
             [
              0.6666666666666666,
              "#ed7953"
             ],
             [
              0.7777777777777778,
              "#fb9f3a"
             ],
             [
              0.8888888888888888,
              "#fdca26"
             ],
             [
              1,
              "#f0f921"
             ]
            ],
            "type": "contour"
           }
          ],
          "contourcarpet": [
           {
            "colorbar": {
             "outlinewidth": 0,
             "ticks": ""
            },
            "type": "contourcarpet"
           }
          ],
          "heatmap": [
           {
            "colorbar": {
             "outlinewidth": 0,
             "ticks": ""
            },
            "colorscale": [
             [
              0,
              "#0d0887"
             ],
             [
              0.1111111111111111,
              "#46039f"
             ],
             [
              0.2222222222222222,
              "#7201a8"
             ],
             [
              0.3333333333333333,
              "#9c179e"
             ],
             [
              0.4444444444444444,
              "#bd3786"
             ],
             [
              0.5555555555555556,
              "#d8576b"
             ],
             [
              0.6666666666666666,
              "#ed7953"
             ],
             [
              0.7777777777777778,
              "#fb9f3a"
             ],
             [
              0.8888888888888888,
              "#fdca26"
             ],
             [
              1,
              "#f0f921"
             ]
            ],
            "type": "heatmap"
           }
          ],
          "heatmapgl": [
           {
            "colorbar": {
             "outlinewidth": 0,
             "ticks": ""
            },
            "colorscale": [
             [
              0,
              "#0d0887"
             ],
             [
              0.1111111111111111,
              "#46039f"
             ],
             [
              0.2222222222222222,
              "#7201a8"
             ],
             [
              0.3333333333333333,
              "#9c179e"
             ],
             [
              0.4444444444444444,
              "#bd3786"
             ],
             [
              0.5555555555555556,
              "#d8576b"
             ],
             [
              0.6666666666666666,
              "#ed7953"
             ],
             [
              0.7777777777777778,
              "#fb9f3a"
             ],
             [
              0.8888888888888888,
              "#fdca26"
             ],
             [
              1,
              "#f0f921"
             ]
            ],
            "type": "heatmapgl"
           }
          ],
          "histogram": [
           {
            "marker": {
             "colorbar": {
              "outlinewidth": 0,
              "ticks": ""
             }
            },
            "type": "histogram"
           }
          ],
          "histogram2d": [
           {
            "colorbar": {
             "outlinewidth": 0,
             "ticks": ""
            },
            "colorscale": [
             [
              0,
              "#0d0887"
             ],
             [
              0.1111111111111111,
              "#46039f"
             ],
             [
              0.2222222222222222,
              "#7201a8"
             ],
             [
              0.3333333333333333,
              "#9c179e"
             ],
             [
              0.4444444444444444,
              "#bd3786"
             ],
             [
              0.5555555555555556,
              "#d8576b"
             ],
             [
              0.6666666666666666,
              "#ed7953"
             ],
             [
              0.7777777777777778,
              "#fb9f3a"
             ],
             [
              0.8888888888888888,
              "#fdca26"
             ],
             [
              1,
              "#f0f921"
             ]
            ],
            "type": "histogram2d"
           }
          ],
          "histogram2dcontour": [
           {
            "colorbar": {
             "outlinewidth": 0,
             "ticks": ""
            },
            "colorscale": [
             [
              0,
              "#0d0887"
             ],
             [
              0.1111111111111111,
              "#46039f"
             ],
             [
              0.2222222222222222,
              "#7201a8"
             ],
             [
              0.3333333333333333,
              "#9c179e"
             ],
             [
              0.4444444444444444,
              "#bd3786"
             ],
             [
              0.5555555555555556,
              "#d8576b"
             ],
             [
              0.6666666666666666,
              "#ed7953"
             ],
             [
              0.7777777777777778,
              "#fb9f3a"
             ],
             [
              0.8888888888888888,
              "#fdca26"
             ],
             [
              1,
              "#f0f921"
             ]
            ],
            "type": "histogram2dcontour"
           }
          ],
          "mesh3d": [
           {
            "colorbar": {
             "outlinewidth": 0,
             "ticks": ""
            },
            "type": "mesh3d"
           }
          ],
          "parcoords": [
           {
            "line": {
             "colorbar": {
              "outlinewidth": 0,
              "ticks": ""
             }
            },
            "type": "parcoords"
           }
          ],
          "pie": [
           {
            "automargin": true,
            "type": "pie"
           }
          ],
          "scatter": [
           {
            "marker": {
             "colorbar": {
              "outlinewidth": 0,
              "ticks": ""
             }
            },
            "type": "scatter"
           }
          ],
          "scatter3d": [
           {
            "line": {
             "colorbar": {
              "outlinewidth": 0,
              "ticks": ""
             }
            },
            "marker": {
             "colorbar": {
              "outlinewidth": 0,
              "ticks": ""
             }
            },
            "type": "scatter3d"
           }
          ],
          "scattercarpet": [
           {
            "marker": {
             "colorbar": {
              "outlinewidth": 0,
              "ticks": ""
             }
            },
            "type": "scattercarpet"
           }
          ],
          "scattergeo": [
           {
            "marker": {
             "colorbar": {
              "outlinewidth": 0,
              "ticks": ""
             }
            },
            "type": "scattergeo"
           }
          ],
          "scattergl": [
           {
            "marker": {
             "colorbar": {
              "outlinewidth": 0,
              "ticks": ""
             }
            },
            "type": "scattergl"
           }
          ],
          "scattermapbox": [
           {
            "marker": {
             "colorbar": {
              "outlinewidth": 0,
              "ticks": ""
             }
            },
            "type": "scattermapbox"
           }
          ],
          "scatterpolar": [
           {
            "marker": {
             "colorbar": {
              "outlinewidth": 0,
              "ticks": ""
             }
            },
            "type": "scatterpolar"
           }
          ],
          "scatterpolargl": [
           {
            "marker": {
             "colorbar": {
              "outlinewidth": 0,
              "ticks": ""
             }
            },
            "type": "scatterpolargl"
           }
          ],
          "scatterternary": [
           {
            "marker": {
             "colorbar": {
              "outlinewidth": 0,
              "ticks": ""
             }
            },
            "type": "scatterternary"
           }
          ],
          "surface": [
           {
            "colorbar": {
             "outlinewidth": 0,
             "ticks": ""
            },
            "colorscale": [
             [
              0,
              "#0d0887"
             ],
             [
              0.1111111111111111,
              "#46039f"
             ],
             [
              0.2222222222222222,
              "#7201a8"
             ],
             [
              0.3333333333333333,
              "#9c179e"
             ],
             [
              0.4444444444444444,
              "#bd3786"
             ],
             [
              0.5555555555555556,
              "#d8576b"
             ],
             [
              0.6666666666666666,
              "#ed7953"
             ],
             [
              0.7777777777777778,
              "#fb9f3a"
             ],
             [
              0.8888888888888888,
              "#fdca26"
             ],
             [
              1,
              "#f0f921"
             ]
            ],
            "type": "surface"
           }
          ],
          "table": [
           {
            "cells": {
             "fill": {
              "color": "#EBF0F8"
             },
             "line": {
              "color": "white"
             }
            },
            "header": {
             "fill": {
              "color": "#C8D4E3"
             },
             "line": {
              "color": "white"
             }
            },
            "type": "table"
           }
          ]
         },
         "layout": {
          "annotationdefaults": {
           "arrowcolor": "#2a3f5f",
           "arrowhead": 0,
           "arrowwidth": 1
          },
          "coloraxis": {
           "colorbar": {
            "outlinewidth": 0,
            "ticks": ""
           }
          },
          "colorscale": {
           "diverging": [
            [
             0,
             "#8e0152"
            ],
            [
             0.1,
             "#c51b7d"
            ],
            [
             0.2,
             "#de77ae"
            ],
            [
             0.3,
             "#f1b6da"
            ],
            [
             0.4,
             "#fde0ef"
            ],
            [
             0.5,
             "#f7f7f7"
            ],
            [
             0.6,
             "#e6f5d0"
            ],
            [
             0.7,
             "#b8e186"
            ],
            [
             0.8,
             "#7fbc41"
            ],
            [
             0.9,
             "#4d9221"
            ],
            [
             1,
             "#276419"
            ]
           ],
           "sequential": [
            [
             0,
             "#0d0887"
            ],
            [
             0.1111111111111111,
             "#46039f"
            ],
            [
             0.2222222222222222,
             "#7201a8"
            ],
            [
             0.3333333333333333,
             "#9c179e"
            ],
            [
             0.4444444444444444,
             "#bd3786"
            ],
            [
             0.5555555555555556,
             "#d8576b"
            ],
            [
             0.6666666666666666,
             "#ed7953"
            ],
            [
             0.7777777777777778,
             "#fb9f3a"
            ],
            [
             0.8888888888888888,
             "#fdca26"
            ],
            [
             1,
             "#f0f921"
            ]
           ],
           "sequentialminus": [
            [
             0,
             "#0d0887"
            ],
            [
             0.1111111111111111,
             "#46039f"
            ],
            [
             0.2222222222222222,
             "#7201a8"
            ],
            [
             0.3333333333333333,
             "#9c179e"
            ],
            [
             0.4444444444444444,
             "#bd3786"
            ],
            [
             0.5555555555555556,
             "#d8576b"
            ],
            [
             0.6666666666666666,
             "#ed7953"
            ],
            [
             0.7777777777777778,
             "#fb9f3a"
            ],
            [
             0.8888888888888888,
             "#fdca26"
            ],
            [
             1,
             "#f0f921"
            ]
           ]
          },
          "colorway": [
           "#636efa",
           "#EF553B",
           "#00cc96",
           "#ab63fa",
           "#FFA15A",
           "#19d3f3",
           "#FF6692",
           "#B6E880",
           "#FF97FF",
           "#FECB52"
          ],
          "font": {
           "color": "#2a3f5f"
          },
          "geo": {
           "bgcolor": "white",
           "lakecolor": "white",
           "landcolor": "#E5ECF6",
           "showlakes": true,
           "showland": true,
           "subunitcolor": "white"
          },
          "hoverlabel": {
           "align": "left"
          },
          "hovermode": "closest",
          "mapbox": {
           "style": "light"
          },
          "paper_bgcolor": "white",
          "plot_bgcolor": "#E5ECF6",
          "polar": {
           "angularaxis": {
            "gridcolor": "white",
            "linecolor": "white",
            "ticks": ""
           },
           "bgcolor": "#E5ECF6",
           "radialaxis": {
            "gridcolor": "white",
            "linecolor": "white",
            "ticks": ""
           }
          },
          "scene": {
           "xaxis": {
            "backgroundcolor": "#E5ECF6",
            "gridcolor": "white",
            "gridwidth": 2,
            "linecolor": "white",
            "showbackground": true,
            "ticks": "",
            "zerolinecolor": "white"
           },
           "yaxis": {
            "backgroundcolor": "#E5ECF6",
            "gridcolor": "white",
            "gridwidth": 2,
            "linecolor": "white",
            "showbackground": true,
            "ticks": "",
            "zerolinecolor": "white"
           },
           "zaxis": {
            "backgroundcolor": "#E5ECF6",
            "gridcolor": "white",
            "gridwidth": 2,
            "linecolor": "white",
            "showbackground": true,
            "ticks": "",
            "zerolinecolor": "white"
           }
          },
          "shapedefaults": {
           "line": {
            "color": "#2a3f5f"
           }
          },
          "ternary": {
           "aaxis": {
            "gridcolor": "white",
            "linecolor": "white",
            "ticks": ""
           },
           "baxis": {
            "gridcolor": "white",
            "linecolor": "white",
            "ticks": ""
           },
           "bgcolor": "#E5ECF6",
           "caxis": {
            "gridcolor": "white",
            "linecolor": "white",
            "ticks": ""
           }
          },
          "title": {
           "x": 0.05
          },
          "xaxis": {
           "automargin": true,
           "gridcolor": "white",
           "linecolor": "white",
           "ticks": "",
           "title": {
            "standoff": 15
           },
           "zerolinecolor": "white",
           "zerolinewidth": 2
          },
          "yaxis": {
           "automargin": true,
           "gridcolor": "white",
           "linecolor": "white",
           "ticks": "",
           "title": {
            "standoff": 15
           },
           "zerolinecolor": "white",
           "zerolinewidth": 2
          }
         }
        },
        "xaxis": {
         "range": [
          0,
          6
         ]
        },
        "yaxis": {
         "range": [
          0,
          6
         ]
        }
       }
      },
      "text/html": [
       "<div>\n",
       "        \n",
       "        \n",
       "            <div id=\"cebd8aa9-9681-4ace-927c-6d090f25eb3a\" class=\"plotly-graph-div\" style=\"height:525px; width:100%;\"></div>\n",
       "            <script type=\"text/javascript\">\n",
       "                require([\"plotly\"], function(Plotly) {\n",
       "                    window.PLOTLYENV=window.PLOTLYENV || {};\n",
       "                    \n",
       "                if (document.getElementById(\"cebd8aa9-9681-4ace-927c-6d090f25eb3a\")) {\n",
       "                    Plotly.newPlot(\n",
       "                        'cebd8aa9-9681-4ace-927c-6d090f25eb3a',\n",
       "                        [{\"fill\": \"toself\", \"hoverinfo\": \"x+y\", \"hoveron\": \"points+fills\", \"mode\": \"lines\", \"type\": \"scatter\", \"x\": [3, 4, 4, 3, 3], \"y\": [1, 1, 2, 2, 1]}, {\"fill\": \"toself\", \"hoverlabel\": {\"namelength\": -1}, \"hoveron\": \"fills\", \"marker\": {\"color\": \"green\"}, \"mode\": \"lines\", \"name\": \"CLASS<BR>confidence\", \"opacity\": 0.5, \"type\": \"scatter\", \"x\": [1, 2, 2, 1, 1], \"y\": [1, 1, 2, 2, 1]}],\n",
       "                        {\"showlegend\": false, \"template\": {\"data\": {\"bar\": [{\"error_x\": {\"color\": \"#2a3f5f\"}, \"error_y\": {\"color\": \"#2a3f5f\"}, \"marker\": {\"line\": {\"color\": \"#E5ECF6\", \"width\": 0.5}}, \"type\": \"bar\"}], \"barpolar\": [{\"marker\": {\"line\": {\"color\": \"#E5ECF6\", \"width\": 0.5}}, \"type\": \"barpolar\"}], \"carpet\": [{\"aaxis\": {\"endlinecolor\": \"#2a3f5f\", \"gridcolor\": \"white\", \"linecolor\": \"white\", \"minorgridcolor\": \"white\", \"startlinecolor\": \"#2a3f5f\"}, \"baxis\": {\"endlinecolor\": \"#2a3f5f\", \"gridcolor\": \"white\", \"linecolor\": \"white\", \"minorgridcolor\": \"white\", \"startlinecolor\": \"#2a3f5f\"}, \"type\": \"carpet\"}], \"choropleth\": [{\"colorbar\": {\"outlinewidth\": 0, \"ticks\": \"\"}, \"type\": \"choropleth\"}], \"contour\": [{\"colorbar\": {\"outlinewidth\": 0, \"ticks\": \"\"}, \"colorscale\": [[0.0, \"#0d0887\"], [0.1111111111111111, \"#46039f\"], [0.2222222222222222, \"#7201a8\"], [0.3333333333333333, \"#9c179e\"], [0.4444444444444444, \"#bd3786\"], [0.5555555555555556, \"#d8576b\"], [0.6666666666666666, \"#ed7953\"], [0.7777777777777778, \"#fb9f3a\"], [0.8888888888888888, \"#fdca26\"], [1.0, \"#f0f921\"]], \"type\": \"contour\"}], \"contourcarpet\": [{\"colorbar\": {\"outlinewidth\": 0, \"ticks\": \"\"}, \"type\": \"contourcarpet\"}], \"heatmap\": [{\"colorbar\": {\"outlinewidth\": 0, \"ticks\": \"\"}, \"colorscale\": [[0.0, \"#0d0887\"], [0.1111111111111111, \"#46039f\"], [0.2222222222222222, \"#7201a8\"], [0.3333333333333333, \"#9c179e\"], [0.4444444444444444, \"#bd3786\"], [0.5555555555555556, \"#d8576b\"], [0.6666666666666666, \"#ed7953\"], [0.7777777777777778, \"#fb9f3a\"], [0.8888888888888888, \"#fdca26\"], [1.0, \"#f0f921\"]], \"type\": \"heatmap\"}], \"heatmapgl\": [{\"colorbar\": {\"outlinewidth\": 0, \"ticks\": \"\"}, \"colorscale\": [[0.0, \"#0d0887\"], [0.1111111111111111, \"#46039f\"], [0.2222222222222222, \"#7201a8\"], [0.3333333333333333, \"#9c179e\"], [0.4444444444444444, \"#bd3786\"], [0.5555555555555556, \"#d8576b\"], [0.6666666666666666, \"#ed7953\"], [0.7777777777777778, \"#fb9f3a\"], [0.8888888888888888, \"#fdca26\"], [1.0, \"#f0f921\"]], \"type\": \"heatmapgl\"}], \"histogram\": [{\"marker\": {\"colorbar\": {\"outlinewidth\": 0, \"ticks\": \"\"}}, \"type\": \"histogram\"}], \"histogram2d\": [{\"colorbar\": {\"outlinewidth\": 0, \"ticks\": \"\"}, \"colorscale\": [[0.0, \"#0d0887\"], [0.1111111111111111, \"#46039f\"], [0.2222222222222222, \"#7201a8\"], [0.3333333333333333, \"#9c179e\"], [0.4444444444444444, \"#bd3786\"], [0.5555555555555556, \"#d8576b\"], [0.6666666666666666, \"#ed7953\"], [0.7777777777777778, \"#fb9f3a\"], [0.8888888888888888, \"#fdca26\"], [1.0, \"#f0f921\"]], \"type\": \"histogram2d\"}], \"histogram2dcontour\": [{\"colorbar\": {\"outlinewidth\": 0, \"ticks\": \"\"}, \"colorscale\": [[0.0, \"#0d0887\"], [0.1111111111111111, \"#46039f\"], [0.2222222222222222, \"#7201a8\"], [0.3333333333333333, \"#9c179e\"], [0.4444444444444444, \"#bd3786\"], [0.5555555555555556, \"#d8576b\"], [0.6666666666666666, \"#ed7953\"], [0.7777777777777778, \"#fb9f3a\"], [0.8888888888888888, \"#fdca26\"], [1.0, \"#f0f921\"]], \"type\": \"histogram2dcontour\"}], \"mesh3d\": [{\"colorbar\": {\"outlinewidth\": 0, \"ticks\": \"\"}, \"type\": \"mesh3d\"}], \"parcoords\": [{\"line\": {\"colorbar\": {\"outlinewidth\": 0, \"ticks\": \"\"}}, \"type\": \"parcoords\"}], \"pie\": [{\"automargin\": true, \"type\": \"pie\"}], \"scatter\": [{\"marker\": {\"colorbar\": {\"outlinewidth\": 0, \"ticks\": \"\"}}, \"type\": \"scatter\"}], \"scatter3d\": [{\"line\": {\"colorbar\": {\"outlinewidth\": 0, \"ticks\": \"\"}}, \"marker\": {\"colorbar\": {\"outlinewidth\": 0, \"ticks\": \"\"}}, \"type\": \"scatter3d\"}], \"scattercarpet\": [{\"marker\": {\"colorbar\": {\"outlinewidth\": 0, \"ticks\": \"\"}}, \"type\": \"scattercarpet\"}], \"scattergeo\": [{\"marker\": {\"colorbar\": {\"outlinewidth\": 0, \"ticks\": \"\"}}, \"type\": \"scattergeo\"}], \"scattergl\": [{\"marker\": {\"colorbar\": {\"outlinewidth\": 0, \"ticks\": \"\"}}, \"type\": \"scattergl\"}], \"scattermapbox\": [{\"marker\": {\"colorbar\": {\"outlinewidth\": 0, \"ticks\": \"\"}}, \"type\": \"scattermapbox\"}], \"scatterpolar\": [{\"marker\": {\"colorbar\": {\"outlinewidth\": 0, \"ticks\": \"\"}}, \"type\": \"scatterpolar\"}], \"scatterpolargl\": [{\"marker\": {\"colorbar\": {\"outlinewidth\": 0, \"ticks\": \"\"}}, \"type\": \"scatterpolargl\"}], \"scatterternary\": [{\"marker\": {\"colorbar\": {\"outlinewidth\": 0, \"ticks\": \"\"}}, \"type\": \"scatterternary\"}], \"surface\": [{\"colorbar\": {\"outlinewidth\": 0, \"ticks\": \"\"}, \"colorscale\": [[0.0, \"#0d0887\"], [0.1111111111111111, \"#46039f\"], [0.2222222222222222, \"#7201a8\"], [0.3333333333333333, \"#9c179e\"], [0.4444444444444444, \"#bd3786\"], [0.5555555555555556, \"#d8576b\"], [0.6666666666666666, \"#ed7953\"], [0.7777777777777778, \"#fb9f3a\"], [0.8888888888888888, \"#fdca26\"], [1.0, \"#f0f921\"]], \"type\": \"surface\"}], \"table\": [{\"cells\": {\"fill\": {\"color\": \"#EBF0F8\"}, \"line\": {\"color\": \"white\"}}, \"header\": {\"fill\": {\"color\": \"#C8D4E3\"}, \"line\": {\"color\": \"white\"}}, \"type\": \"table\"}]}, \"layout\": {\"annotationdefaults\": {\"arrowcolor\": \"#2a3f5f\", \"arrowhead\": 0, \"arrowwidth\": 1}, \"coloraxis\": {\"colorbar\": {\"outlinewidth\": 0, \"ticks\": \"\"}}, \"colorscale\": {\"diverging\": [[0, \"#8e0152\"], [0.1, \"#c51b7d\"], [0.2, \"#de77ae\"], [0.3, \"#f1b6da\"], [0.4, \"#fde0ef\"], [0.5, \"#f7f7f7\"], [0.6, \"#e6f5d0\"], [0.7, \"#b8e186\"], [0.8, \"#7fbc41\"], [0.9, \"#4d9221\"], [1, \"#276419\"]], \"sequential\": [[0.0, \"#0d0887\"], [0.1111111111111111, \"#46039f\"], [0.2222222222222222, \"#7201a8\"], [0.3333333333333333, \"#9c179e\"], [0.4444444444444444, \"#bd3786\"], [0.5555555555555556, \"#d8576b\"], [0.6666666666666666, \"#ed7953\"], [0.7777777777777778, \"#fb9f3a\"], [0.8888888888888888, \"#fdca26\"], [1.0, \"#f0f921\"]], \"sequentialminus\": [[0.0, \"#0d0887\"], [0.1111111111111111, \"#46039f\"], [0.2222222222222222, \"#7201a8\"], [0.3333333333333333, \"#9c179e\"], [0.4444444444444444, \"#bd3786\"], [0.5555555555555556, \"#d8576b\"], [0.6666666666666666, \"#ed7953\"], [0.7777777777777778, \"#fb9f3a\"], [0.8888888888888888, \"#fdca26\"], [1.0, \"#f0f921\"]]}, \"colorway\": [\"#636efa\", \"#EF553B\", \"#00cc96\", \"#ab63fa\", \"#FFA15A\", \"#19d3f3\", \"#FF6692\", \"#B6E880\", \"#FF97FF\", \"#FECB52\"], \"font\": {\"color\": \"#2a3f5f\"}, \"geo\": {\"bgcolor\": \"white\", \"lakecolor\": \"white\", \"landcolor\": \"#E5ECF6\", \"showlakes\": true, \"showland\": true, \"subunitcolor\": \"white\"}, \"hoverlabel\": {\"align\": \"left\"}, \"hovermode\": \"closest\", \"mapbox\": {\"style\": \"light\"}, \"paper_bgcolor\": \"white\", \"plot_bgcolor\": \"#E5ECF6\", \"polar\": {\"angularaxis\": {\"gridcolor\": \"white\", \"linecolor\": \"white\", \"ticks\": \"\"}, \"bgcolor\": \"#E5ECF6\", \"radialaxis\": {\"gridcolor\": \"white\", \"linecolor\": \"white\", \"ticks\": \"\"}}, \"scene\": {\"xaxis\": {\"backgroundcolor\": \"#E5ECF6\", \"gridcolor\": \"white\", \"gridwidth\": 2, \"linecolor\": \"white\", \"showbackground\": true, \"ticks\": \"\", \"zerolinecolor\": \"white\"}, \"yaxis\": {\"backgroundcolor\": \"#E5ECF6\", \"gridcolor\": \"white\", \"gridwidth\": 2, \"linecolor\": \"white\", \"showbackground\": true, \"ticks\": \"\", \"zerolinecolor\": \"white\"}, \"zaxis\": {\"backgroundcolor\": \"#E5ECF6\", \"gridcolor\": \"white\", \"gridwidth\": 2, \"linecolor\": \"white\", \"showbackground\": true, \"ticks\": \"\", \"zerolinecolor\": \"white\"}}, \"shapedefaults\": {\"line\": {\"color\": \"#2a3f5f\"}}, \"ternary\": {\"aaxis\": {\"gridcolor\": \"white\", \"linecolor\": \"white\", \"ticks\": \"\"}, \"baxis\": {\"gridcolor\": \"white\", \"linecolor\": \"white\", \"ticks\": \"\"}, \"bgcolor\": \"#E5ECF6\", \"caxis\": {\"gridcolor\": \"white\", \"linecolor\": \"white\", \"ticks\": \"\"}}, \"title\": {\"x\": 0.05}, \"xaxis\": {\"automargin\": true, \"gridcolor\": \"white\", \"linecolor\": \"white\", \"ticks\": \"\", \"title\": {\"standoff\": 15}, \"zerolinecolor\": \"white\", \"zerolinewidth\": 2}, \"yaxis\": {\"automargin\": true, \"gridcolor\": \"white\", \"linecolor\": \"white\", \"ticks\": \"\", \"title\": {\"standoff\": 15}, \"zerolinecolor\": \"white\", \"zerolinewidth\": 2}}}, \"xaxis\": {\"range\": [0, 6]}, \"yaxis\": {\"range\": [0, 6]}},\n",
       "                        {\"responsive\": true}\n",
       "                    ).then(function(){\n",
       "                            \n",
       "var gd = document.getElementById('cebd8aa9-9681-4ace-927c-6d090f25eb3a');\n",
       "var x = new MutationObserver(function (mutations, observer) {{\n",
       "        var display = window.getComputedStyle(gd).display;\n",
       "        if (!display || display === 'none') {{\n",
       "            console.log([gd, 'removed!']);\n",
       "            Plotly.purge(gd);\n",
       "            observer.disconnect();\n",
       "        }}\n",
       "}});\n",
       "\n",
       "// Listen for the removal of the full notebook cells\n",
       "var notebookContainer = gd.closest('#notebook-container');\n",
       "if (notebookContainer) {{\n",
       "    x.observe(notebookContainer, {childList: true});\n",
       "}}\n",
       "\n",
       "// Listen for the clearing of the current output cell\n",
       "var outputEl = gd.closest('.output');\n",
       "if (outputEl) {{\n",
       "    x.observe(outputEl, {childList: true});\n",
       "}}\n",
       "\n",
       "                        })\n",
       "                };\n",
       "                });\n",
       "            </script>\n",
       "        </div>"
      ]
     },
     "metadata": {},
     "output_type": "display_data"
    }
   ],
   "source": [
    "import plotly.graph_objects as go\n",
    "fig = go.Figure()\n",
    "fig.add_scatter(\n",
    "    x=[3,4,4,3,3], \n",
    "    y=[1,1,2,2,1], \n",
    "    mode=\"lines\", fill=\"toself\",\n",
    "    hoveron=\"points+fills\", hoverinfo=\"x+y\"\n",
    ")\n",
    "fig.add_scatter(\n",
    "    x=[1,2,2,1,1], \n",
    "    y=[1,1,2,2,1], \n",
    "    mode=\"lines\", fill=\"toself\", opacity=0.5,\n",
    "    marker_color=\"green\",\n",
    "    hoveron=\"fills\",\n",
    "    name=\"CLASS<BR>confidence\",\n",
    "    hoverlabel_namelength=-1\n",
    ")\n",
    "fig.update_xaxes(range=[0,6])\n",
    "fig.update_yaxes(range=[0,6])\n",
    "fig.update_layout(showlegend=False)"
   ]
  },
  {
   "cell_type": "markdown",
   "metadata": {},
   "source": [
    "# Start here "
   ]
  },
  {
   "cell_type": "code",
   "execution_count": 42,
   "metadata": {},
   "outputs": [],
   "source": [
    "object_type = 'pedestrian'\n",
    "confidence_threshold = .5\n",
    "overlap_threshold = .5\n",
    "selected_frame_index = 0\n",
    "min_elts, max_elts = 10, 20"
   ]
  },
  {
   "cell_type": "code",
   "execution_count": 137,
   "metadata": {},
   "outputs": [],
   "source": [
    "metadata = pd.read_csv(\"labels.csv.gz\")\n",
    "metadata['confidence'] = 1.0\n",
    "summary = create_summary(metadata)"
   ]
  },
  {
   "cell_type": "code",
   "execution_count": 44,
   "metadata": {
    "scrolled": true
   },
   "outputs": [],
   "source": [
    "selected_frames = get_selected_frames(summary, object_type, min_elts, max_elts)\n",
    "selected_frame = selected_frames[selected_frame_index]"
   ]
  },
  {
   "cell_type": "code",
   "execution_count": 45,
   "metadata": {},
   "outputs": [],
   "source": [
    "img_bucket = \"https://images.plot.ly/udacity-self-driving-cars/\"\n",
    "image_url = os.path.join(img_bucket, selected_frame)\n",
    "image = load_image(image_url)"
   ]
  },
  {
   "cell_type": "code",
   "execution_count": 152,
   "metadata": {},
   "outputs": [
    {
     "data": {
      "application/vnd.plotly.v1+json": {
       "config": {
        "plotlyServerURL": "https://plot.ly"
       },
       "data": [
        {
         "hoverinfo": "none",
         "marker": {
          "opacity": 0
         },
         "mode": "markers",
         "type": "scatter",
         "x": [
          25.6,
          486.4
         ],
         "y": [
          304,
          16
         ]
        },
        {
         "fill": "toself",
         "hoverlabel": {
          "namelength": -1
         },
         "hoveron": "fills",
         "marker": {
          "color": "red"
         },
         "mode": "lines",
         "name": "class=pedestrian<br>confidence=1.000",
         "opacity": 0.5,
         "type": "scatter",
         "x": [
          64,
          108,
          108,
          64,
          64
         ],
         "y": [
          123,
          123,
          220,
          220,
          123
         ]
        },
        {
         "fill": "toself",
         "hoverlabel": {
          "namelength": -1
         },
         "hoveron": "fills",
         "marker": {
          "color": "LightSkyBlue"
         },
         "mode": "lines",
         "name": "class=car<br>confidence=1.000",
         "opacity": 0.5,
         "type": "scatter",
         "x": [
          104,
          142,
          142,
          104,
          104
         ],
         "y": [
          149,
          149,
          174,
          174,
          149
         ]
        },
        {
         "fill": "toself",
         "hoverlabel": {
          "namelength": -1
         },
         "hoveron": "fills",
         "marker": {
          "color": "red"
         },
         "mode": "lines",
         "name": "class=pedestrian<br>confidence=1.000",
         "opacity": 0.5,
         "type": "scatter",
         "x": [
          114,
          150,
          150,
          114,
          114
         ],
         "y": [
          135,
          135,
          215,
          215,
          135
         ]
        },
        {
         "fill": "toself",
         "hoverlabel": {
          "namelength": -1
         },
         "hoveron": "fills",
         "marker": {
          "color": "red"
         },
         "mode": "lines",
         "name": "class=pedestrian<br>confidence=1.000",
         "opacity": 0.5,
         "type": "scatter",
         "x": [
          142,
          181,
          181,
          142,
          142
         ],
         "y": [
          123,
          123,
          215,
          215,
          123
         ]
        },
        {
         "fill": "toself",
         "hoverlabel": {
          "namelength": -1
         },
         "hoveron": "fills",
         "marker": {
          "color": "green"
         },
         "mode": "lines",
         "name": "class=truck<br>confidence=1.000",
         "opacity": 0.5,
         "type": "scatter",
         "x": [
          173,
          222,
          222,
          173,
          173
         ],
         "y": [
          125,
          125,
          169,
          169,
          125
         ]
        },
        {
         "fill": "toself",
         "hoverlabel": {
          "namelength": -1
         },
         "hoveron": "fills",
         "marker": {
          "color": "LightSkyBlue"
         },
         "mode": "lines",
         "name": "class=car<br>confidence=1.000",
         "opacity": 0.5,
         "type": "scatter",
         "x": [
          176,
          219,
          219,
          176,
          176
         ],
         "y": [
          125,
          125,
          169,
          169,
          125
         ]
        },
        {
         "fill": "toself",
         "hoverlabel": {
          "namelength": -1
         },
         "hoveron": "fills",
         "marker": {
          "color": "red"
         },
         "mode": "lines",
         "name": "class=pedestrian<br>confidence=1.000",
         "opacity": 0.5,
         "type": "scatter",
         "x": [
          179,
          189,
          189,
          179,
          179
         ],
         "y": [
          145,
          145,
          168,
          168,
          145
         ]
        },
        {
         "fill": "toself",
         "hoverlabel": {
          "namelength": -1
         },
         "hoveron": "fills",
         "marker": {
          "color": "red"
         },
         "mode": "lines",
         "name": "class=pedestrian<br>confidence=1.000",
         "opacity": 0.5,
         "type": "scatter",
         "x": [
          181,
          189,
          189,
          181,
          181
         ],
         "y": [
          146,
          146,
          171,
          171,
          146
         ]
        },
        {
         "fill": "toself",
         "hoverlabel": {
          "namelength": -1
         },
         "hoveron": "fills",
         "marker": {
          "color": "red"
         },
         "mode": "lines",
         "name": "class=pedestrian<br>confidence=1.000",
         "opacity": 0.5,
         "type": "scatter",
         "x": [
          193,
          203,
          203,
          193,
          193
         ],
         "y": [
          147,
          147,
          172,
          172,
          147
         ]
        },
        {
         "fill": "toself",
         "hoverlabel": {
          "namelength": -1
         },
         "hoveron": "fills",
         "marker": {
          "color": "red"
         },
         "mode": "lines",
         "name": "class=pedestrian<br>confidence=1.000",
         "opacity": 0.5,
         "type": "scatter",
         "x": [
          210,
          221,
          221,
          210,
          210
         ],
         "y": [
          147,
          147,
          169,
          169,
          147
         ]
        },
        {
         "fill": "toself",
         "hoverlabel": {
          "namelength": -1
         },
         "hoveron": "fills",
         "marker": {
          "color": "red"
         },
         "mode": "lines",
         "name": "class=pedestrian<br>confidence=1.000",
         "opacity": 0.5,
         "type": "scatter",
         "x": [
          218,
          227,
          227,
          218,
          218
         ],
         "y": [
          149,
          149,
          171,
          171,
          149
         ]
        },
        {
         "fill": "toself",
         "hoverlabel": {
          "namelength": -1
         },
         "hoveron": "fills",
         "marker": {
          "color": "red"
         },
         "mode": "lines",
         "name": "class=pedestrian<br>confidence=1.000",
         "opacity": 0.5,
         "type": "scatter",
         "x": [
          224,
          234,
          234,
          224,
          224
         ],
         "y": [
          147,
          147,
          172,
          172,
          147
         ]
        },
        {
         "fill": "toself",
         "hoverlabel": {
          "namelength": -1
         },
         "hoveron": "fills",
         "marker": {
          "color": "LightSkyBlue"
         },
         "mode": "lines",
         "name": "class=car<br>confidence=1.000",
         "opacity": 0.5,
         "type": "scatter",
         "x": [
          226,
          351,
          351,
          226,
          226
         ],
         "y": [
          139,
          139,
          184,
          184,
          139
         ]
        },
        {
         "fill": "toself",
         "hoverlabel": {
          "namelength": -1
         },
         "hoveron": "fills",
         "marker": {
          "color": "lightyellow"
         },
         "mode": "lines",
         "name": "class=trafficLight<br>confidence=1.000",
         "opacity": 0.5,
         "type": "scatter",
         "x": [
          251,
          260,
          260,
          251,
          251
         ],
         "y": [
          93,
          93,
          110,
          110,
          93
         ]
        },
        {
         "fill": "toself",
         "hoverlabel": {
          "namelength": -1
         },
         "hoveron": "fills",
         "marker": {
          "color": "lightyellow"
         },
         "mode": "lines",
         "name": "class=trafficLight<br>confidence=1.000",
         "opacity": 0.5,
         "type": "scatter",
         "x": [
          284,
          294,
          294,
          284,
          284
         ],
         "y": [
          94,
          94,
          112,
          112,
          94
         ]
        },
        {
         "fill": "toself",
         "hoverlabel": {
          "namelength": -1
         },
         "hoveron": "fills",
         "marker": {
          "color": "LightSkyBlue"
         },
         "mode": "lines",
         "name": "class=car<br>confidence=1.000",
         "opacity": 0.5,
         "type": "scatter",
         "x": [
          347,
          410,
          410,
          347,
          347
         ],
         "y": [
          148,
          148,
          168,
          168,
          148
         ]
        },
        {
         "fill": "toself",
         "hoverlabel": {
          "namelength": -1
         },
         "hoveron": "fills",
         "marker": {
          "color": "lightyellow"
         },
         "mode": "lines",
         "name": "class=trafficLight<br>confidence=1.000",
         "opacity": 0.5,
         "type": "scatter",
         "x": [
          348,
          358,
          358,
          348,
          348
         ],
         "y": [
          117,
          117,
          137,
          137,
          117
         ]
        },
        {
         "fill": "toself",
         "hoverlabel": {
          "namelength": -1
         },
         "hoveron": "fills",
         "marker": {
          "color": "red"
         },
         "mode": "lines",
         "name": "class=pedestrian<br>confidence=1.000",
         "opacity": 0.5,
         "type": "scatter",
         "x": [
          362,
          418,
          418,
          362,
          362
         ],
         "y": [
          132,
          132,
          222,
          222,
          132
         ]
        }
       ],
       "layout": {
        "images": [
         {
          "layer": "below",
          "opacity": 1,
          "sizex": 512,
          "sizey": 320,
          "sizing": "stretch",
          "source": "data:img/jpg;base64, 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",
          "x": 0,
          "xref": "x",
          "y": 0,
          "yref": "y"
         }
        ],
        "showlegend": false,
        "template": {
         "data": {
          "bar": [
           {
            "error_x": {
             "color": "#2a3f5f"
            },
            "error_y": {
             "color": "#2a3f5f"
            },
            "marker": {
             "line": {
              "color": "#E5ECF6",
              "width": 0.5
             }
            },
            "type": "bar"
           }
          ],
          "barpolar": [
           {
            "marker": {
             "line": {
              "color": "#E5ECF6",
              "width": 0.5
             }
            },
            "type": "barpolar"
           }
          ],
          "carpet": [
           {
            "aaxis": {
             "endlinecolor": "#2a3f5f",
             "gridcolor": "white",
             "linecolor": "white",
             "minorgridcolor": "white",
             "startlinecolor": "#2a3f5f"
            },
            "baxis": {
             "endlinecolor": "#2a3f5f",
             "gridcolor": "white",
             "linecolor": "white",
             "minorgridcolor": "white",
             "startlinecolor": "#2a3f5f"
            },
            "type": "carpet"
           }
          ],
          "choropleth": [
           {
            "colorbar": {
             "outlinewidth": 0,
             "ticks": ""
            },
            "type": "choropleth"
           }
          ],
          "contour": [
           {
            "colorbar": {
             "outlinewidth": 0,
             "ticks": ""
            },
            "colorscale": [
             [
              0,
              "#0d0887"
             ],
             [
              0.1111111111111111,
              "#46039f"
             ],
             [
              0.2222222222222222,
              "#7201a8"
             ],
             [
              0.3333333333333333,
              "#9c179e"
             ],
             [
              0.4444444444444444,
              "#bd3786"
             ],
             [
              0.5555555555555556,
              "#d8576b"
             ],
             [
              0.6666666666666666,
              "#ed7953"
             ],
             [
              0.7777777777777778,
              "#fb9f3a"
             ],
             [
              0.8888888888888888,
              "#fdca26"
             ],
             [
              1,
              "#f0f921"
             ]
            ],
            "type": "contour"
           }
          ],
          "contourcarpet": [
           {
            "colorbar": {
             "outlinewidth": 0,
             "ticks": ""
            },
            "type": "contourcarpet"
           }
          ],
          "heatmap": [
           {
            "colorbar": {
             "outlinewidth": 0,
             "ticks": ""
            },
            "colorscale": [
             [
              0,
              "#0d0887"
             ],
             [
              0.1111111111111111,
              "#46039f"
             ],
             [
              0.2222222222222222,
              "#7201a8"
             ],
             [
              0.3333333333333333,
              "#9c179e"
             ],
             [
              0.4444444444444444,
              "#bd3786"
             ],
             [
              0.5555555555555556,
              "#d8576b"
             ],
             [
              0.6666666666666666,
              "#ed7953"
             ],
             [
              0.7777777777777778,
              "#fb9f3a"
             ],
             [
              0.8888888888888888,
              "#fdca26"
             ],
             [
              1,
              "#f0f921"
             ]
            ],
            "type": "heatmap"
           }
          ],
          "heatmapgl": [
           {
            "colorbar": {
             "outlinewidth": 0,
             "ticks": ""
            },
            "colorscale": [
             [
              0,
              "#0d0887"
             ],
             [
              0.1111111111111111,
              "#46039f"
             ],
             [
              0.2222222222222222,
              "#7201a8"
             ],
             [
              0.3333333333333333,
              "#9c179e"
             ],
             [
              0.4444444444444444,
              "#bd3786"
             ],
             [
              0.5555555555555556,
              "#d8576b"
             ],
             [
              0.6666666666666666,
              "#ed7953"
             ],
             [
              0.7777777777777778,
              "#fb9f3a"
             ],
             [
              0.8888888888888888,
              "#fdca26"
             ],
             [
              1,
              "#f0f921"
             ]
            ],
            "type": "heatmapgl"
           }
          ],
          "histogram": [
           {
            "marker": {
             "colorbar": {
              "outlinewidth": 0,
              "ticks": ""
             }
            },
            "type": "histogram"
           }
          ],
          "histogram2d": [
           {
            "colorbar": {
             "outlinewidth": 0,
             "ticks": ""
            },
            "colorscale": [
             [
              0,
              "#0d0887"
             ],
             [
              0.1111111111111111,
              "#46039f"
             ],
             [
              0.2222222222222222,
              "#7201a8"
             ],
             [
              0.3333333333333333,
              "#9c179e"
             ],
             [
              0.4444444444444444,
              "#bd3786"
             ],
             [
              0.5555555555555556,
              "#d8576b"
             ],
             [
              0.6666666666666666,
              "#ed7953"
             ],
             [
              0.7777777777777778,
              "#fb9f3a"
             ],
             [
              0.8888888888888888,
              "#fdca26"
             ],
             [
              1,
              "#f0f921"
             ]
            ],
            "type": "histogram2d"
           }
          ],
          "histogram2dcontour": [
           {
            "colorbar": {
             "outlinewidth": 0,
             "ticks": ""
            },
            "colorscale": [
             [
              0,
              "#0d0887"
             ],
             [
              0.1111111111111111,
              "#46039f"
             ],
             [
              0.2222222222222222,
              "#7201a8"
             ],
             [
              0.3333333333333333,
              "#9c179e"
             ],
             [
              0.4444444444444444,
              "#bd3786"
             ],
             [
              0.5555555555555556,
              "#d8576b"
             ],
             [
              0.6666666666666666,
              "#ed7953"
             ],
             [
              0.7777777777777778,
              "#fb9f3a"
             ],
             [
              0.8888888888888888,
              "#fdca26"
             ],
             [
              1,
              "#f0f921"
             ]
            ],
            "type": "histogram2dcontour"
           }
          ],
          "mesh3d": [
           {
            "colorbar": {
             "outlinewidth": 0,
             "ticks": ""
            },
            "type": "mesh3d"
           }
          ],
          "parcoords": [
           {
            "line": {
             "colorbar": {
              "outlinewidth": 0,
              "ticks": ""
             }
            },
            "type": "parcoords"
           }
          ],
          "pie": [
           {
            "automargin": true,
            "type": "pie"
           }
          ],
          "scatter": [
           {
            "marker": {
             "colorbar": {
              "outlinewidth": 0,
              "ticks": ""
             }
            },
            "type": "scatter"
           }
          ],
          "scatter3d": [
           {
            "line": {
             "colorbar": {
              "outlinewidth": 0,
              "ticks": ""
             }
            },
            "marker": {
             "colorbar": {
              "outlinewidth": 0,
              "ticks": ""
             }
            },
            "type": "scatter3d"
           }
          ],
          "scattercarpet": [
           {
            "marker": {
             "colorbar": {
              "outlinewidth": 0,
              "ticks": ""
             }
            },
            "type": "scattercarpet"
           }
          ],
          "scattergeo": [
           {
            "marker": {
             "colorbar": {
              "outlinewidth": 0,
              "ticks": ""
             }
            },
            "type": "scattergeo"
           }
          ],
          "scattergl": [
           {
            "marker": {
             "colorbar": {
              "outlinewidth": 0,
              "ticks": ""
             }
            },
            "type": "scattergl"
           }
          ],
          "scattermapbox": [
           {
            "marker": {
             "colorbar": {
              "outlinewidth": 0,
              "ticks": ""
             }
            },
            "type": "scattermapbox"
           }
          ],
          "scatterpolar": [
           {
            "marker": {
             "colorbar": {
              "outlinewidth": 0,
              "ticks": ""
             }
            },
            "type": "scatterpolar"
           }
          ],
          "scatterpolargl": [
           {
            "marker": {
             "colorbar": {
              "outlinewidth": 0,
              "ticks": ""
             }
            },
            "type": "scatterpolargl"
           }
          ],
          "scatterternary": [
           {
            "marker": {
             "colorbar": {
              "outlinewidth": 0,
              "ticks": ""
             }
            },
            "type": "scatterternary"
           }
          ],
          "surface": [
           {
            "colorbar": {
             "outlinewidth": 0,
             "ticks": ""
            },
            "colorscale": [
             [
              0,
              "#0d0887"
             ],
             [
              0.1111111111111111,
              "#46039f"
             ],
             [
              0.2222222222222222,
              "#7201a8"
             ],
             [
              0.3333333333333333,
              "#9c179e"
             ],
             [
              0.4444444444444444,
              "#bd3786"
             ],
             [
              0.5555555555555556,
              "#d8576b"
             ],
             [
              0.6666666666666666,
              "#ed7953"
             ],
             [
              0.7777777777777778,
              "#fb9f3a"
             ],
             [
              0.8888888888888888,
              "#fdca26"
             ],
             [
              1,
              "#f0f921"
             ]
            ],
            "type": "surface"
           }
          ],
          "table": [
           {
            "cells": {
             "fill": {
              "color": "#EBF0F8"
             },
             "line": {
              "color": "white"
             }
            },
            "header": {
             "fill": {
              "color": "#C8D4E3"
             },
             "line": {
              "color": "white"
             }
            },
            "type": "table"
           }
          ]
         },
         "layout": {
          "annotationdefaults": {
           "arrowcolor": "#2a3f5f",
           "arrowhead": 0,
           "arrowwidth": 1
          },
          "coloraxis": {
           "colorbar": {
            "outlinewidth": 0,
            "ticks": ""
           }
          },
          "colorscale": {
           "diverging": [
            [
             0,
             "#8e0152"
            ],
            [
             0.1,
             "#c51b7d"
            ],
            [
             0.2,
             "#de77ae"
            ],
            [
             0.3,
             "#f1b6da"
            ],
            [
             0.4,
             "#fde0ef"
            ],
            [
             0.5,
             "#f7f7f7"
            ],
            [
             0.6,
             "#e6f5d0"
            ],
            [
             0.7,
             "#b8e186"
            ],
            [
             0.8,
             "#7fbc41"
            ],
            [
             0.9,
             "#4d9221"
            ],
            [
             1,
             "#276419"
            ]
           ],
           "sequential": [
            [
             0,
             "#0d0887"
            ],
            [
             0.1111111111111111,
             "#46039f"
            ],
            [
             0.2222222222222222,
             "#7201a8"
            ],
            [
             0.3333333333333333,
             "#9c179e"
            ],
            [
             0.4444444444444444,
             "#bd3786"
            ],
            [
             0.5555555555555556,
             "#d8576b"
            ],
            [
             0.6666666666666666,
             "#ed7953"
            ],
            [
             0.7777777777777778,
             "#fb9f3a"
            ],
            [
             0.8888888888888888,
             "#fdca26"
            ],
            [
             1,
             "#f0f921"
            ]
           ],
           "sequentialminus": [
            [
             0,
             "#0d0887"
            ],
            [
             0.1111111111111111,
             "#46039f"
            ],
            [
             0.2222222222222222,
             "#7201a8"
            ],
            [
             0.3333333333333333,
             "#9c179e"
            ],
            [
             0.4444444444444444,
             "#bd3786"
            ],
            [
             0.5555555555555556,
             "#d8576b"
            ],
            [
             0.6666666666666666,
             "#ed7953"
            ],
            [
             0.7777777777777778,
             "#fb9f3a"
            ],
            [
             0.8888888888888888,
             "#fdca26"
            ],
            [
             1,
             "#f0f921"
            ]
           ]
          },
          "colorway": [
           "#636efa",
           "#EF553B",
           "#00cc96",
           "#ab63fa",
           "#FFA15A",
           "#19d3f3",
           "#FF6692",
           "#B6E880",
           "#FF97FF",
           "#FECB52"
          ],
          "font": {
           "color": "#2a3f5f"
          },
          "geo": {
           "bgcolor": "white",
           "lakecolor": "white",
           "landcolor": "#E5ECF6",
           "showlakes": true,
           "showland": true,
           "subunitcolor": "white"
          },
          "hoverlabel": {
           "align": "left"
          },
          "hovermode": "closest",
          "mapbox": {
           "style": "light"
          },
          "paper_bgcolor": "white",
          "plot_bgcolor": "#E5ECF6",
          "polar": {
           "angularaxis": {
            "gridcolor": "white",
            "linecolor": "white",
            "ticks": ""
           },
           "bgcolor": "#E5ECF6",
           "radialaxis": {
            "gridcolor": "white",
            "linecolor": "white",
            "ticks": ""
           }
          },
          "scene": {
           "xaxis": {
            "backgroundcolor": "#E5ECF6",
            "gridcolor": "white",
            "gridwidth": 2,
            "linecolor": "white",
            "showbackground": true,
            "ticks": "",
            "zerolinecolor": "white"
           },
           "yaxis": {
            "backgroundcolor": "#E5ECF6",
            "gridcolor": "white",
            "gridwidth": 2,
            "linecolor": "white",
            "showbackground": true,
            "ticks": "",
            "zerolinecolor": "white"
           },
           "zaxis": {
            "backgroundcolor": "#E5ECF6",
            "gridcolor": "white",
            "gridwidth": 2,
            "linecolor": "white",
            "showbackground": true,
            "ticks": "",
            "zerolinecolor": "white"
           }
          },
          "shapedefaults": {
           "line": {
            "color": "#2a3f5f"
           }
          },
          "ternary": {
           "aaxis": {
            "gridcolor": "white",
            "linecolor": "white",
            "ticks": ""
           },
           "baxis": {
            "gridcolor": "white",
            "linecolor": "white",
            "ticks": ""
           },
           "bgcolor": "#E5ECF6",
           "caxis": {
            "gridcolor": "white",
            "linecolor": "white",
            "ticks": ""
           }
          },
          "title": {
           "x": 0.05
          },
          "xaxis": {
           "automargin": true,
           "gridcolor": "white",
           "linecolor": "white",
           "ticks": "",
           "title": {
            "standoff": 15
           },
           "zerolinecolor": "white",
           "zerolinewidth": 2
          },
          "yaxis": {
           "automargin": true,
           "gridcolor": "white",
           "linecolor": "white",
           "ticks": "",
           "title": {
            "standoff": 15
           },
           "zerolinecolor": "white",
           "zerolinewidth": 2
          }
         }
        },
        "title": {
         "text": "Human Annotated"
        },
        "xaxis": {
         "constrain": "domain",
         "range": [
          0,
          512
         ],
         "showgrid": false,
         "visible": false
        },
        "yaxis": {
         "range": [
          320,
          0
         ],
         "scaleanchor": "x",
         "scaleratio": 1,
         "showgrid": false,
         "visible": false
        }
       }
      },
      "text/html": [
       "<div>\n",
       "        \n",
       "        \n",
       "            <div id=\"39a1419e-73bb-40b6-b8b9-eea5a7b85a40\" class=\"plotly-graph-div\" style=\"height:525px; width:100%;\"></div>\n",
       "            <script type=\"text/javascript\">\n",
       "                require([\"plotly\"], function(Plotly) {\n",
       "                    window.PLOTLYENV=window.PLOTLYENV || {};\n",
       "                    \n",
       "                if (document.getElementById(\"39a1419e-73bb-40b6-b8b9-eea5a7b85a40\")) {\n",
       "                    Plotly.newPlot(\n",
       "                        '39a1419e-73bb-40b6-b8b9-eea5a7b85a40',\n",
       "                        [{\"hoverinfo\": \"none\", \"marker\": {\"opacity\": 0}, \"mode\": \"markers\", \"type\": \"scatter\", \"x\": [25.6, 486.4], \"y\": [304.0, 16.0]}, {\"fill\": \"toself\", \"hoverlabel\": {\"namelength\": -1}, \"hoveron\": \"fills\", \"marker\": {\"color\": \"red\"}, \"mode\": \"lines\", \"name\": \"class=pedestrian<br>confidence=1.000\", \"opacity\": 0.5, \"type\": \"scatter\", \"x\": [64, 108, 108, 64, 64], \"y\": [123, 123, 220, 220, 123]}, {\"fill\": \"toself\", \"hoverlabel\": {\"namelength\": -1}, \"hoveron\": \"fills\", \"marker\": {\"color\": \"LightSkyBlue\"}, \"mode\": \"lines\", \"name\": \"class=car<br>confidence=1.000\", \"opacity\": 0.5, \"type\": \"scatter\", \"x\": [104, 142, 142, 104, 104], \"y\": [149, 149, 174, 174, 149]}, {\"fill\": \"toself\", \"hoverlabel\": {\"namelength\": -1}, \"hoveron\": \"fills\", \"marker\": {\"color\": \"red\"}, \"mode\": \"lines\", \"name\": \"class=pedestrian<br>confidence=1.000\", \"opacity\": 0.5, \"type\": \"scatter\", \"x\": [114, 150, 150, 114, 114], \"y\": [135, 135, 215, 215, 135]}, {\"fill\": \"toself\", \"hoverlabel\": {\"namelength\": -1}, \"hoveron\": \"fills\", \"marker\": {\"color\": \"red\"}, \"mode\": \"lines\", \"name\": \"class=pedestrian<br>confidence=1.000\", \"opacity\": 0.5, \"type\": \"scatter\", \"x\": [142, 181, 181, 142, 142], \"y\": [123, 123, 215, 215, 123]}, {\"fill\": \"toself\", \"hoverlabel\": {\"namelength\": -1}, \"hoveron\": \"fills\", \"marker\": {\"color\": \"green\"}, \"mode\": \"lines\", \"name\": \"class=truck<br>confidence=1.000\", \"opacity\": 0.5, \"type\": \"scatter\", \"x\": [173, 222, 222, 173, 173], \"y\": [125, 125, 169, 169, 125]}, {\"fill\": \"toself\", \"hoverlabel\": {\"namelength\": -1}, \"hoveron\": \"fills\", \"marker\": {\"color\": \"LightSkyBlue\"}, \"mode\": \"lines\", \"name\": \"class=car<br>confidence=1.000\", \"opacity\": 0.5, \"type\": \"scatter\", \"x\": [176, 219, 219, 176, 176], \"y\": [125, 125, 169, 169, 125]}, {\"fill\": \"toself\", \"hoverlabel\": {\"namelength\": -1}, \"hoveron\": \"fills\", \"marker\": {\"color\": \"red\"}, \"mode\": \"lines\", \"name\": \"class=pedestrian<br>confidence=1.000\", \"opacity\": 0.5, \"type\": \"scatter\", \"x\": [179, 189, 189, 179, 179], \"y\": [145, 145, 168, 168, 145]}, {\"fill\": \"toself\", \"hoverlabel\": {\"namelength\": -1}, \"hoveron\": \"fills\", \"marker\": {\"color\": \"red\"}, \"mode\": \"lines\", \"name\": \"class=pedestrian<br>confidence=1.000\", \"opacity\": 0.5, \"type\": \"scatter\", \"x\": [181, 189, 189, 181, 181], \"y\": [146, 146, 171, 171, 146]}, {\"fill\": \"toself\", \"hoverlabel\": {\"namelength\": -1}, \"hoveron\": \"fills\", \"marker\": {\"color\": \"red\"}, \"mode\": \"lines\", \"name\": \"class=pedestrian<br>confidence=1.000\", \"opacity\": 0.5, \"type\": \"scatter\", \"x\": [193, 203, 203, 193, 193], \"y\": [147, 147, 172, 172, 147]}, {\"fill\": \"toself\", \"hoverlabel\": {\"namelength\": -1}, \"hoveron\": \"fills\", \"marker\": {\"color\": \"red\"}, \"mode\": \"lines\", \"name\": \"class=pedestrian<br>confidence=1.000\", \"opacity\": 0.5, \"type\": \"scatter\", \"x\": [210, 221, 221, 210, 210], \"y\": [147, 147, 169, 169, 147]}, {\"fill\": \"toself\", \"hoverlabel\": {\"namelength\": -1}, \"hoveron\": \"fills\", \"marker\": {\"color\": \"red\"}, \"mode\": \"lines\", \"name\": \"class=pedestrian<br>confidence=1.000\", \"opacity\": 0.5, \"type\": \"scatter\", \"x\": [218, 227, 227, 218, 218], \"y\": [149, 149, 171, 171, 149]}, {\"fill\": \"toself\", \"hoverlabel\": {\"namelength\": -1}, \"hoveron\": \"fills\", \"marker\": {\"color\": \"red\"}, \"mode\": \"lines\", \"name\": \"class=pedestrian<br>confidence=1.000\", \"opacity\": 0.5, \"type\": \"scatter\", \"x\": [224, 234, 234, 224, 224], \"y\": [147, 147, 172, 172, 147]}, {\"fill\": \"toself\", \"hoverlabel\": {\"namelength\": -1}, \"hoveron\": \"fills\", \"marker\": {\"color\": \"LightSkyBlue\"}, \"mode\": \"lines\", \"name\": \"class=car<br>confidence=1.000\", \"opacity\": 0.5, \"type\": \"scatter\", \"x\": [226, 351, 351, 226, 226], \"y\": [139, 139, 184, 184, 139]}, {\"fill\": \"toself\", \"hoverlabel\": {\"namelength\": -1}, \"hoveron\": \"fills\", \"marker\": {\"color\": \"lightyellow\"}, \"mode\": \"lines\", \"name\": \"class=trafficLight<br>confidence=1.000\", \"opacity\": 0.5, \"type\": \"scatter\", \"x\": [251, 260, 260, 251, 251], \"y\": [93, 93, 110, 110, 93]}, {\"fill\": \"toself\", \"hoverlabel\": {\"namelength\": -1}, \"hoveron\": \"fills\", \"marker\": {\"color\": \"lightyellow\"}, \"mode\": \"lines\", \"name\": \"class=trafficLight<br>confidence=1.000\", \"opacity\": 0.5, \"type\": \"scatter\", \"x\": [284, 294, 294, 284, 284], \"y\": [94, 94, 112, 112, 94]}, {\"fill\": \"toself\", \"hoverlabel\": {\"namelength\": -1}, \"hoveron\": \"fills\", \"marker\": {\"color\": \"LightSkyBlue\"}, \"mode\": \"lines\", \"name\": \"class=car<br>confidence=1.000\", \"opacity\": 0.5, \"type\": \"scatter\", \"x\": [347, 410, 410, 347, 347], \"y\": [148, 148, 168, 168, 148]}, {\"fill\": \"toself\", \"hoverlabel\": {\"namelength\": -1}, \"hoveron\": \"fills\", \"marker\": {\"color\": \"lightyellow\"}, \"mode\": \"lines\", \"name\": \"class=trafficLight<br>confidence=1.000\", \"opacity\": 0.5, \"type\": \"scatter\", \"x\": [348, 358, 358, 348, 348], \"y\": [117, 117, 137, 137, 117]}, {\"fill\": \"toself\", \"hoverlabel\": {\"namelength\": -1}, \"hoveron\": \"fills\", \"marker\": {\"color\": \"red\"}, \"mode\": \"lines\", \"name\": \"class=pedestrian<br>confidence=1.000\", \"opacity\": 0.5, \"type\": \"scatter\", \"x\": [362, 418, 418, 362, 362], \"y\": [132, 132, 222, 222, 132]}],\n",
       "                        {\"images\": [{\"layer\": \"below\", \"opacity\": 1, \"sizex\": 512, \"sizey\": 320, \"sizing\": \"stretch\", \"source\": \"data:img/jpg;base64, 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\", \"x\": 0, \"xref\": \"x\", \"y\": 0, \"yref\": \"y\"}], \"showlegend\": false, \"template\": {\"data\": {\"bar\": [{\"error_x\": {\"color\": \"#2a3f5f\"}, \"error_y\": {\"color\": \"#2a3f5f\"}, \"marker\": {\"line\": {\"color\": \"#E5ECF6\", \"width\": 0.5}}, \"type\": \"bar\"}], \"barpolar\": [{\"marker\": {\"line\": {\"color\": \"#E5ECF6\", \"width\": 0.5}}, \"type\": \"barpolar\"}], \"carpet\": [{\"aaxis\": {\"endlinecolor\": \"#2a3f5f\", \"gridcolor\": \"white\", \"linecolor\": \"white\", \"minorgridcolor\": \"white\", \"startlinecolor\": \"#2a3f5f\"}, \"baxis\": {\"endlinecolor\": \"#2a3f5f\", \"gridcolor\": \"white\", \"linecolor\": \"white\", \"minorgridcolor\": \"white\", \"startlinecolor\": \"#2a3f5f\"}, \"type\": \"carpet\"}], \"choropleth\": [{\"colorbar\": {\"outlinewidth\": 0, \"ticks\": \"\"}, \"type\": \"choropleth\"}], \"contour\": [{\"colorbar\": {\"outlinewidth\": 0, \"ticks\": \"\"}, \"colorscale\": [[0.0, \"#0d0887\"], [0.1111111111111111, \"#46039f\"], [0.2222222222222222, \"#7201a8\"], [0.3333333333333333, \"#9c179e\"], [0.4444444444444444, \"#bd3786\"], [0.5555555555555556, \"#d8576b\"], [0.6666666666666666, \"#ed7953\"], [0.7777777777777778, \"#fb9f3a\"], [0.8888888888888888, \"#fdca26\"], [1.0, \"#f0f921\"]], \"type\": \"contour\"}], \"contourcarpet\": [{\"colorbar\": {\"outlinewidth\": 0, \"ticks\": \"\"}, \"type\": \"contourcarpet\"}], \"heatmap\": [{\"colorbar\": {\"outlinewidth\": 0, \"ticks\": \"\"}, \"colorscale\": [[0.0, \"#0d0887\"], [0.1111111111111111, \"#46039f\"], [0.2222222222222222, \"#7201a8\"], [0.3333333333333333, \"#9c179e\"], [0.4444444444444444, \"#bd3786\"], [0.5555555555555556, \"#d8576b\"], [0.6666666666666666, \"#ed7953\"], [0.7777777777777778, \"#fb9f3a\"], [0.8888888888888888, \"#fdca26\"], [1.0, \"#f0f921\"]], \"type\": \"heatmap\"}], \"heatmapgl\": [{\"colorbar\": {\"outlinewidth\": 0, \"ticks\": \"\"}, \"colorscale\": [[0.0, \"#0d0887\"], [0.1111111111111111, \"#46039f\"], [0.2222222222222222, \"#7201a8\"], [0.3333333333333333, \"#9c179e\"], [0.4444444444444444, \"#bd3786\"], [0.5555555555555556, \"#d8576b\"], [0.6666666666666666, \"#ed7953\"], [0.7777777777777778, \"#fb9f3a\"], [0.8888888888888888, \"#fdca26\"], [1.0, \"#f0f921\"]], \"type\": \"heatmapgl\"}], \"histogram\": [{\"marker\": {\"colorbar\": {\"outlinewidth\": 0, \"ticks\": \"\"}}, \"type\": \"histogram\"}], \"histogram2d\": [{\"colorbar\": {\"outlinewidth\": 0, \"ticks\": \"\"}, \"colorscale\": [[0.0, \"#0d0887\"], [0.1111111111111111, \"#46039f\"], [0.2222222222222222, \"#7201a8\"], [0.3333333333333333, \"#9c179e\"], [0.4444444444444444, \"#bd3786\"], [0.5555555555555556, \"#d8576b\"], [0.6666666666666666, \"#ed7953\"], [0.7777777777777778, \"#fb9f3a\"], [0.8888888888888888, \"#fdca26\"], [1.0, \"#f0f921\"]], \"type\": \"histogram2d\"}], \"histogram2dcontour\": [{\"colorbar\": {\"outlinewidth\": 0, \"ticks\": \"\"}, \"colorscale\": [[0.0, \"#0d0887\"], [0.1111111111111111, \"#46039f\"], [0.2222222222222222, \"#7201a8\"], [0.3333333333333333, \"#9c179e\"], [0.4444444444444444, \"#bd3786\"], [0.5555555555555556, \"#d8576b\"], [0.6666666666666666, \"#ed7953\"], [0.7777777777777778, \"#fb9f3a\"], [0.8888888888888888, \"#fdca26\"], [1.0, \"#f0f921\"]], \"type\": \"histogram2dcontour\"}], \"mesh3d\": [{\"colorbar\": {\"outlinewidth\": 0, \"ticks\": \"\"}, \"type\": \"mesh3d\"}], \"parcoords\": [{\"line\": {\"colorbar\": {\"outlinewidth\": 0, \"ticks\": \"\"}}, \"type\": \"parcoords\"}], \"pie\": [{\"automargin\": true, \"type\": \"pie\"}], \"scatter\": [{\"marker\": {\"colorbar\": {\"outlinewidth\": 0, \"ticks\": \"\"}}, \"type\": \"scatter\"}], \"scatter3d\": [{\"line\": {\"colorbar\": {\"outlinewidth\": 0, \"ticks\": \"\"}}, \"marker\": {\"colorbar\": {\"outlinewidth\": 0, \"ticks\": \"\"}}, \"type\": \"scatter3d\"}], \"scattercarpet\": [{\"marker\": {\"colorbar\": {\"outlinewidth\": 0, \"ticks\": \"\"}}, \"type\": \"scattercarpet\"}], \"scattergeo\": [{\"marker\": {\"colorbar\": {\"outlinewidth\": 0, \"ticks\": \"\"}}, \"type\": \"scattergeo\"}], \"scattergl\": [{\"marker\": {\"colorbar\": {\"outlinewidth\": 0, \"ticks\": \"\"}}, \"type\": \"scattergl\"}], \"scattermapbox\": [{\"marker\": {\"colorbar\": {\"outlinewidth\": 0, \"ticks\": \"\"}}, \"type\": \"scattermapbox\"}], \"scatterpolar\": [{\"marker\": {\"colorbar\": {\"outlinewidth\": 0, \"ticks\": \"\"}}, \"type\": \"scatterpolar\"}], \"scatterpolargl\": [{\"marker\": {\"colorbar\": {\"outlinewidth\": 0, \"ticks\": \"\"}}, \"type\": \"scatterpolargl\"}], \"scatterternary\": [{\"marker\": {\"colorbar\": {\"outlinewidth\": 0, \"ticks\": \"\"}}, \"type\": \"scatterternary\"}], \"surface\": [{\"colorbar\": {\"outlinewidth\": 0, \"ticks\": \"\"}, \"colorscale\": [[0.0, \"#0d0887\"], [0.1111111111111111, \"#46039f\"], [0.2222222222222222, \"#7201a8\"], [0.3333333333333333, \"#9c179e\"], [0.4444444444444444, \"#bd3786\"], [0.5555555555555556, \"#d8576b\"], [0.6666666666666666, \"#ed7953\"], [0.7777777777777778, \"#fb9f3a\"], [0.8888888888888888, \"#fdca26\"], [1.0, \"#f0f921\"]], \"type\": \"surface\"}], \"table\": [{\"cells\": {\"fill\": {\"color\": \"#EBF0F8\"}, \"line\": {\"color\": \"white\"}}, \"header\": {\"fill\": {\"color\": \"#C8D4E3\"}, \"line\": {\"color\": \"white\"}}, \"type\": \"table\"}]}, \"layout\": {\"annotationdefaults\": {\"arrowcolor\": \"#2a3f5f\", \"arrowhead\": 0, \"arrowwidth\": 1}, \"coloraxis\": {\"colorbar\": {\"outlinewidth\": 0, \"ticks\": \"\"}}, \"colorscale\": {\"diverging\": [[0, \"#8e0152\"], [0.1, \"#c51b7d\"], [0.2, \"#de77ae\"], [0.3, \"#f1b6da\"], [0.4, \"#fde0ef\"], [0.5, \"#f7f7f7\"], [0.6, \"#e6f5d0\"], [0.7, \"#b8e186\"], [0.8, \"#7fbc41\"], [0.9, \"#4d9221\"], [1, \"#276419\"]], \"sequential\": [[0.0, \"#0d0887\"], [0.1111111111111111, \"#46039f\"], [0.2222222222222222, \"#7201a8\"], [0.3333333333333333, \"#9c179e\"], [0.4444444444444444, \"#bd3786\"], [0.5555555555555556, \"#d8576b\"], [0.6666666666666666, \"#ed7953\"], [0.7777777777777778, \"#fb9f3a\"], [0.8888888888888888, \"#fdca26\"], [1.0, \"#f0f921\"]], \"sequentialminus\": [[0.0, \"#0d0887\"], [0.1111111111111111, \"#46039f\"], [0.2222222222222222, \"#7201a8\"], [0.3333333333333333, \"#9c179e\"], [0.4444444444444444, \"#bd3786\"], [0.5555555555555556, \"#d8576b\"], [0.6666666666666666, \"#ed7953\"], [0.7777777777777778, \"#fb9f3a\"], [0.8888888888888888, \"#fdca26\"], [1.0, \"#f0f921\"]]}, \"colorway\": [\"#636efa\", \"#EF553B\", \"#00cc96\", \"#ab63fa\", \"#FFA15A\", \"#19d3f3\", \"#FF6692\", \"#B6E880\", \"#FF97FF\", \"#FECB52\"], \"font\": {\"color\": \"#2a3f5f\"}, \"geo\": {\"bgcolor\": \"white\", \"lakecolor\": \"white\", \"landcolor\": \"#E5ECF6\", \"showlakes\": true, \"showland\": true, \"subunitcolor\": \"white\"}, \"hoverlabel\": {\"align\": \"left\"}, \"hovermode\": \"closest\", \"mapbox\": {\"style\": \"light\"}, \"paper_bgcolor\": \"white\", \"plot_bgcolor\": \"#E5ECF6\", \"polar\": {\"angularaxis\": {\"gridcolor\": \"white\", \"linecolor\": \"white\", \"ticks\": \"\"}, \"bgcolor\": \"#E5ECF6\", \"radialaxis\": {\"gridcolor\": \"white\", \"linecolor\": \"white\", \"ticks\": \"\"}}, \"scene\": {\"xaxis\": {\"backgroundcolor\": \"#E5ECF6\", \"gridcolor\": \"white\", \"gridwidth\": 2, \"linecolor\": \"white\", \"showbackground\": true, \"ticks\": \"\", \"zerolinecolor\": \"white\"}, \"yaxis\": {\"backgroundcolor\": \"#E5ECF6\", \"gridcolor\": \"white\", \"gridwidth\": 2, \"linecolor\": \"white\", \"showbackground\": true, \"ticks\": \"\", \"zerolinecolor\": \"white\"}, \"zaxis\": {\"backgroundcolor\": \"#E5ECF6\", \"gridcolor\": \"white\", \"gridwidth\": 2, \"linecolor\": \"white\", \"showbackground\": true, \"ticks\": \"\", \"zerolinecolor\": \"white\"}}, \"shapedefaults\": {\"line\": {\"color\": \"#2a3f5f\"}}, \"ternary\": {\"aaxis\": {\"gridcolor\": \"white\", \"linecolor\": \"white\", \"ticks\": \"\"}, \"baxis\": {\"gridcolor\": \"white\", \"linecolor\": \"white\", \"ticks\": \"\"}, \"bgcolor\": \"#E5ECF6\", \"caxis\": {\"gridcolor\": \"white\", \"linecolor\": \"white\", \"ticks\": \"\"}}, \"title\": {\"x\": 0.05}, \"xaxis\": {\"automargin\": true, \"gridcolor\": \"white\", \"linecolor\": \"white\", \"ticks\": \"\", \"title\": {\"standoff\": 15}, \"zerolinecolor\": \"white\", \"zerolinewidth\": 2}, \"yaxis\": {\"automargin\": true, \"gridcolor\": \"white\", \"linecolor\": \"white\", \"ticks\": \"\", \"title\": {\"standoff\": 15}, \"zerolinecolor\": \"white\", \"zerolinewidth\": 2}}}, \"title\": {\"text\": \"Human Annotated\"}, \"xaxis\": {\"constrain\": \"domain\", \"range\": [0, 512], \"showgrid\": false, \"visible\": false}, \"yaxis\": {\"range\": [320, 0], \"scaleanchor\": \"x\", \"scaleratio\": 1, \"showgrid\": false, \"visible\": false}},\n",
       "                        {\"responsive\": true}\n",
       "                    ).then(function(){\n",
       "                            \n",
       "var gd = document.getElementById('39a1419e-73bb-40b6-b8b9-eea5a7b85a40');\n",
       "var x = new MutationObserver(function (mutations, observer) {{\n",
       "        var display = window.getComputedStyle(gd).display;\n",
       "        if (!display || display === 'none') {{\n",
       "            console.log([gd, 'removed!']);\n",
       "            Plotly.purge(gd);\n",
       "            observer.disconnect();\n",
       "        }}\n",
       "}});\n",
       "\n",
       "// Listen for the removal of the full notebook cells\n",
       "var notebookContainer = gd.closest('#notebook-container');\n",
       "if (notebookContainer) {{\n",
       "    x.observe(notebookContainer, {childList: true});\n",
       "}}\n",
       "\n",
       "// Listen for the clearing of the current output cell\n",
       "var outputEl = gd.closest('.output');\n",
       "if (outputEl) {{\n",
       "    x.observe(outputEl, {childList: true});\n",
       "}}\n",
       "\n",
       "                        })\n",
       "                };\n",
       "                });\n",
       "            </script>\n",
       "        </div>"
      ]
     },
     "metadata": {},
     "output_type": "display_data"
    }
   ],
   "source": [
    "real_boxes = metadata[metadata.frame == selected_frame].drop(columns=[\"frame\"])\n",
    "real_fig = display_images_with_bbox(image, real_boxes, 'Human Annotated')\n",
    "real_fig.show()"
   ]
  },
  {
   "cell_type": "code",
   "execution_count": 139,
   "metadata": {},
   "outputs": [],
   "source": [
    "net, output_layer_names = load_network(\"yolov3.cfg\", \"yolov3.weights\")"
   ]
  },
  {
   "cell_type": "code",
   "execution_count": 153,
   "metadata": {},
   "outputs": [
    {
     "data": {
      "application/vnd.plotly.v1+json": {
       "config": {
        "plotlyServerURL": "https://plot.ly"
       },
       "data": [
        {
         "hoverinfo": "none",
         "marker": {
          "opacity": 0
         },
         "mode": "markers",
         "type": "scatter",
         "x": [
          25.6,
          486.4
         ],
         "y": [
          304,
          16
         ]
        },
        {
         "fill": "toself",
         "hoverlabel": {
          "namelength": -1
         },
         "hoveron": "fills",
         "marker": {
          "color": "LightSkyBlue"
         },
         "mode": "lines",
         "name": "class=car<br>confidence=0.998",
         "opacity": 0.5,
         "type": "scatter",
         "x": [
          230,
          343,
          343,
          230,
          230
         ],
         "y": [
          143,
          143,
          180,
          180,
          143
         ]
        },
        {
         "fill": "toself",
         "hoverlabel": {
          "namelength": -1
         },
         "hoveron": "fills",
         "marker": {
          "color": "red"
         },
         "mode": "lines",
         "name": "class=pedestrian<br>confidence=0.996",
         "opacity": 0.5,
         "type": "scatter",
         "x": [
          61,
          110,
          110,
          61,
          61
         ],
         "y": [
          129,
          129,
          218,
          218,
          129
         ]
        },
        {
         "fill": "toself",
         "hoverlabel": {
          "namelength": -1
         },
         "hoveron": "fills",
         "marker": {
          "color": "lightyellow"
         },
         "mode": "lines",
         "name": "class=trafficLight<br>confidence=0.993",
         "opacity": 0.5,
         "type": "scatter",
         "x": [
          284,
          292,
          292,
          284,
          284
         ],
         "y": [
          95,
          95,
          108,
          108,
          95
         ]
        },
        {
         "fill": "toself",
         "hoverlabel": {
          "namelength": -1
         },
         "hoveron": "fills",
         "marker": {
          "color": "red"
         },
         "mode": "lines",
         "name": "class=pedestrian<br>confidence=0.993",
         "opacity": 0.5,
         "type": "scatter",
         "x": [
          365,
          410,
          410,
          365,
          365
         ],
         "y": [
          140,
          140,
          223,
          223,
          140
         ]
        },
        {
         "fill": "toself",
         "hoverlabel": {
          "namelength": -1
         },
         "hoveron": "fills",
         "marker": {
          "color": "red"
         },
         "mode": "lines",
         "name": "class=pedestrian<br>confidence=0.978",
         "opacity": 0.5,
         "type": "scatter",
         "x": [
          117,
          148,
          148,
          117,
          117
         ],
         "y": [
          134,
          134,
          215,
          215,
          134
         ]
        },
        {
         "fill": "toself",
         "hoverlabel": {
          "namelength": -1
         },
         "hoveron": "fills",
         "marker": {
          "color": "red"
         },
         "mode": "lines",
         "name": "class=pedestrian<br>confidence=0.975",
         "opacity": 0.5,
         "type": "scatter",
         "x": [
          148,
          180,
          180,
          148,
          148
         ],
         "y": [
          122,
          122,
          213,
          213,
          122
         ]
        },
        {
         "fill": "toself",
         "hoverlabel": {
          "namelength": -1
         },
         "hoveron": "fills",
         "marker": {
          "color": "lightyellow"
         },
         "mode": "lines",
         "name": "class=trafficLight<br>confidence=0.950",
         "opacity": 0.5,
         "type": "scatter",
         "x": [
          250,
          257,
          257,
          250,
          250
         ],
         "y": [
          95,
          95,
          108,
          108,
          95
         ]
        },
        {
         "fill": "toself",
         "hoverlabel": {
          "namelength": -1
         },
         "hoveron": "fills",
         "marker": {
          "color": "LightSkyBlue"
         },
         "mode": "lines",
         "name": "class=car<br>confidence=0.527",
         "opacity": 0.5,
         "type": "scatter",
         "x": [
          106,
          124,
          124,
          106,
          106
         ],
         "y": [
          153,
          153,
          173,
          173,
          153
         ]
        }
       ],
       "layout": {
        "images": [
         {
          "layer": "below",
          "opacity": 1,
          "sizex": 512,
          "sizey": 320,
          "sizing": "stretch",
          "source": "data:img/jpg;base64, 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",
          "x": 0,
          "xref": "x",
          "y": 0,
          "yref": "y"
         }
        ],
        "showlegend": false,
        "template": {
         "data": {
          "bar": [
           {
            "error_x": {
             "color": "#2a3f5f"
            },
            "error_y": {
             "color": "#2a3f5f"
            },
            "marker": {
             "line": {
              "color": "#E5ECF6",
              "width": 0.5
             }
            },
            "type": "bar"
           }
          ],
          "barpolar": [
           {
            "marker": {
             "line": {
              "color": "#E5ECF6",
              "width": 0.5
             }
            },
            "type": "barpolar"
           }
          ],
          "carpet": [
           {
            "aaxis": {
             "endlinecolor": "#2a3f5f",
             "gridcolor": "white",
             "linecolor": "white",
             "minorgridcolor": "white",
             "startlinecolor": "#2a3f5f"
            },
            "baxis": {
             "endlinecolor": "#2a3f5f",
             "gridcolor": "white",
             "linecolor": "white",
             "minorgridcolor": "white",
             "startlinecolor": "#2a3f5f"
            },
            "type": "carpet"
           }
          ],
          "choropleth": [
           {
            "colorbar": {
             "outlinewidth": 0,
             "ticks": ""
            },
            "type": "choropleth"
           }
          ],
          "contour": [
           {
            "colorbar": {
             "outlinewidth": 0,
             "ticks": ""
            },
            "colorscale": [
             [
              0,
              "#0d0887"
             ],
             [
              0.1111111111111111,
              "#46039f"
             ],
             [
              0.2222222222222222,
              "#7201a8"
             ],
             [
              0.3333333333333333,
              "#9c179e"
             ],
             [
              0.4444444444444444,
              "#bd3786"
             ],
             [
              0.5555555555555556,
              "#d8576b"
             ],
             [
              0.6666666666666666,
              "#ed7953"
             ],
             [
              0.7777777777777778,
              "#fb9f3a"
             ],
             [
              0.8888888888888888,
              "#fdca26"
             ],
             [
              1,
              "#f0f921"
             ]
            ],
            "type": "contour"
           }
          ],
          "contourcarpet": [
           {
            "colorbar": {
             "outlinewidth": 0,
             "ticks": ""
            },
            "type": "contourcarpet"
           }
          ],
          "heatmap": [
           {
            "colorbar": {
             "outlinewidth": 0,
             "ticks": ""
            },
            "colorscale": [
             [
              0,
              "#0d0887"
             ],
             [
              0.1111111111111111,
              "#46039f"
             ],
             [
              0.2222222222222222,
              "#7201a8"
             ],
             [
              0.3333333333333333,
              "#9c179e"
             ],
             [
              0.4444444444444444,
              "#bd3786"
             ],
             [
              0.5555555555555556,
              "#d8576b"
             ],
             [
              0.6666666666666666,
              "#ed7953"
             ],
             [
              0.7777777777777778,
              "#fb9f3a"
             ],
             [
              0.8888888888888888,
              "#fdca26"
             ],
             [
              1,
              "#f0f921"
             ]
            ],
            "type": "heatmap"
           }
          ],
          "heatmapgl": [
           {
            "colorbar": {
             "outlinewidth": 0,
             "ticks": ""
            },
            "colorscale": [
             [
              0,
              "#0d0887"
             ],
             [
              0.1111111111111111,
              "#46039f"
             ],
             [
              0.2222222222222222,
              "#7201a8"
             ],
             [
              0.3333333333333333,
              "#9c179e"
             ],
             [
              0.4444444444444444,
              "#bd3786"
             ],
             [
              0.5555555555555556,
              "#d8576b"
             ],
             [
              0.6666666666666666,
              "#ed7953"
             ],
             [
              0.7777777777777778,
              "#fb9f3a"
             ],
             [
              0.8888888888888888,
              "#fdca26"
             ],
             [
              1,
              "#f0f921"
             ]
            ],
            "type": "heatmapgl"
           }
          ],
          "histogram": [
           {
            "marker": {
             "colorbar": {
              "outlinewidth": 0,
              "ticks": ""
             }
            },
            "type": "histogram"
           }
          ],
          "histogram2d": [
           {
            "colorbar": {
             "outlinewidth": 0,
             "ticks": ""
            },
            "colorscale": [
             [
              0,
              "#0d0887"
             ],
             [
              0.1111111111111111,
              "#46039f"
             ],
             [
              0.2222222222222222,
              "#7201a8"
             ],
             [
              0.3333333333333333,
              "#9c179e"
             ],
             [
              0.4444444444444444,
              "#bd3786"
             ],
             [
              0.5555555555555556,
              "#d8576b"
             ],
             [
              0.6666666666666666,
              "#ed7953"
             ],
             [
              0.7777777777777778,
              "#fb9f3a"
             ],
             [
              0.8888888888888888,
              "#fdca26"
             ],
             [
              1,
              "#f0f921"
             ]
            ],
            "type": "histogram2d"
           }
          ],
          "histogram2dcontour": [
           {
            "colorbar": {
             "outlinewidth": 0,
             "ticks": ""
            },
            "colorscale": [
             [
              0,
              "#0d0887"
             ],
             [
              0.1111111111111111,
              "#46039f"
             ],
             [
              0.2222222222222222,
              "#7201a8"
             ],
             [
              0.3333333333333333,
              "#9c179e"
             ],
             [
              0.4444444444444444,
              "#bd3786"
             ],
             [
              0.5555555555555556,
              "#d8576b"
             ],
             [
              0.6666666666666666,
              "#ed7953"
             ],
             [
              0.7777777777777778,
              "#fb9f3a"
             ],
             [
              0.8888888888888888,
              "#fdca26"
             ],
             [
              1,
              "#f0f921"
             ]
            ],
            "type": "histogram2dcontour"
           }
          ],
          "mesh3d": [
           {
            "colorbar": {
             "outlinewidth": 0,
             "ticks": ""
            },
            "type": "mesh3d"
           }
          ],
          "parcoords": [
           {
            "line": {
             "colorbar": {
              "outlinewidth": 0,
              "ticks": ""
             }
            },
            "type": "parcoords"
           }
          ],
          "pie": [
           {
            "automargin": true,
            "type": "pie"
           }
          ],
          "scatter": [
           {
            "marker": {
             "colorbar": {
              "outlinewidth": 0,
              "ticks": ""
             }
            },
            "type": "scatter"
           }
          ],
          "scatter3d": [
           {
            "line": {
             "colorbar": {
              "outlinewidth": 0,
              "ticks": ""
             }
            },
            "marker": {
             "colorbar": {
              "outlinewidth": 0,
              "ticks": ""
             }
            },
            "type": "scatter3d"
           }
          ],
          "scattercarpet": [
           {
            "marker": {
             "colorbar": {
              "outlinewidth": 0,
              "ticks": ""
             }
            },
            "type": "scattercarpet"
           }
          ],
          "scattergeo": [
           {
            "marker": {
             "colorbar": {
              "outlinewidth": 0,
              "ticks": ""
             }
            },
            "type": "scattergeo"
           }
          ],
          "scattergl": [
           {
            "marker": {
             "colorbar": {
              "outlinewidth": 0,
              "ticks": ""
             }
            },
            "type": "scattergl"
           }
          ],
          "scattermapbox": [
           {
            "marker": {
             "colorbar": {
              "outlinewidth": 0,
              "ticks": ""
             }
            },
            "type": "scattermapbox"
           }
          ],
          "scatterpolar": [
           {
            "marker": {
             "colorbar": {
              "outlinewidth": 0,
              "ticks": ""
             }
            },
            "type": "scatterpolar"
           }
          ],
          "scatterpolargl": [
           {
            "marker": {
             "colorbar": {
              "outlinewidth": 0,
              "ticks": ""
             }
            },
            "type": "scatterpolargl"
           }
          ],
          "scatterternary": [
           {
            "marker": {
             "colorbar": {
              "outlinewidth": 0,
              "ticks": ""
             }
            },
            "type": "scatterternary"
           }
          ],
          "surface": [
           {
            "colorbar": {
             "outlinewidth": 0,
             "ticks": ""
            },
            "colorscale": [
             [
              0,
              "#0d0887"
             ],
             [
              0.1111111111111111,
              "#46039f"
             ],
             [
              0.2222222222222222,
              "#7201a8"
             ],
             [
              0.3333333333333333,
              "#9c179e"
             ],
             [
              0.4444444444444444,
              "#bd3786"
             ],
             [
              0.5555555555555556,
              "#d8576b"
             ],
             [
              0.6666666666666666,
              "#ed7953"
             ],
             [
              0.7777777777777778,
              "#fb9f3a"
             ],
             [
              0.8888888888888888,
              "#fdca26"
             ],
             [
              1,
              "#f0f921"
             ]
            ],
            "type": "surface"
           }
          ],
          "table": [
           {
            "cells": {
             "fill": {
              "color": "#EBF0F8"
             },
             "line": {
              "color": "white"
             }
            },
            "header": {
             "fill": {
              "color": "#C8D4E3"
             },
             "line": {
              "color": "white"
             }
            },
            "type": "table"
           }
          ]
         },
         "layout": {
          "annotationdefaults": {
           "arrowcolor": "#2a3f5f",
           "arrowhead": 0,
           "arrowwidth": 1
          },
          "coloraxis": {
           "colorbar": {
            "outlinewidth": 0,
            "ticks": ""
           }
          },
          "colorscale": {
           "diverging": [
            [
             0,
             "#8e0152"
            ],
            [
             0.1,
             "#c51b7d"
            ],
            [
             0.2,
             "#de77ae"
            ],
            [
             0.3,
             "#f1b6da"
            ],
            [
             0.4,
             "#fde0ef"
            ],
            [
             0.5,
             "#f7f7f7"
            ],
            [
             0.6,
             "#e6f5d0"
            ],
            [
             0.7,
             "#b8e186"
            ],
            [
             0.8,
             "#7fbc41"
            ],
            [
             0.9,
             "#4d9221"
            ],
            [
             1,
             "#276419"
            ]
           ],
           "sequential": [
            [
             0,
             "#0d0887"
            ],
            [
             0.1111111111111111,
             "#46039f"
            ],
            [
             0.2222222222222222,
             "#7201a8"
            ],
            [
             0.3333333333333333,
             "#9c179e"
            ],
            [
             0.4444444444444444,
             "#bd3786"
            ],
            [
             0.5555555555555556,
             "#d8576b"
            ],
            [
             0.6666666666666666,
             "#ed7953"
            ],
            [
             0.7777777777777778,
             "#fb9f3a"
            ],
            [
             0.8888888888888888,
             "#fdca26"
            ],
            [
             1,
             "#f0f921"
            ]
           ],
           "sequentialminus": [
            [
             0,
             "#0d0887"
            ],
            [
             0.1111111111111111,
             "#46039f"
            ],
            [
             0.2222222222222222,
             "#7201a8"
            ],
            [
             0.3333333333333333,
             "#9c179e"
            ],
            [
             0.4444444444444444,
             "#bd3786"
            ],
            [
             0.5555555555555556,
             "#d8576b"
            ],
            [
             0.6666666666666666,
             "#ed7953"
            ],
            [
             0.7777777777777778,
             "#fb9f3a"
            ],
            [
             0.8888888888888888,
             "#fdca26"
            ],
            [
             1,
             "#f0f921"
            ]
           ]
          },
          "colorway": [
           "#636efa",
           "#EF553B",
           "#00cc96",
           "#ab63fa",
           "#FFA15A",
           "#19d3f3",
           "#FF6692",
           "#B6E880",
           "#FF97FF",
           "#FECB52"
          ],
          "font": {
           "color": "#2a3f5f"
          },
          "geo": {
           "bgcolor": "white",
           "lakecolor": "white",
           "landcolor": "#E5ECF6",
           "showlakes": true,
           "showland": true,
           "subunitcolor": "white"
          },
          "hoverlabel": {
           "align": "left"
          },
          "hovermode": "closest",
          "mapbox": {
           "style": "light"
          },
          "paper_bgcolor": "white",
          "plot_bgcolor": "#E5ECF6",
          "polar": {
           "angularaxis": {
            "gridcolor": "white",
            "linecolor": "white",
            "ticks": ""
           },
           "bgcolor": "#E5ECF6",
           "radialaxis": {
            "gridcolor": "white",
            "linecolor": "white",
            "ticks": ""
           }
          },
          "scene": {
           "xaxis": {
            "backgroundcolor": "#E5ECF6",
            "gridcolor": "white",
            "gridwidth": 2,
            "linecolor": "white",
            "showbackground": true,
            "ticks": "",
            "zerolinecolor": "white"
           },
           "yaxis": {
            "backgroundcolor": "#E5ECF6",
            "gridcolor": "white",
            "gridwidth": 2,
            "linecolor": "white",
            "showbackground": true,
            "ticks": "",
            "zerolinecolor": "white"
           },
           "zaxis": {
            "backgroundcolor": "#E5ECF6",
            "gridcolor": "white",
            "gridwidth": 2,
            "linecolor": "white",
            "showbackground": true,
            "ticks": "",
            "zerolinecolor": "white"
           }
          },
          "shapedefaults": {
           "line": {
            "color": "#2a3f5f"
           }
          },
          "ternary": {
           "aaxis": {
            "gridcolor": "white",
            "linecolor": "white",
            "ticks": ""
           },
           "baxis": {
            "gridcolor": "white",
            "linecolor": "white",
            "ticks": ""
           },
           "bgcolor": "#E5ECF6",
           "caxis": {
            "gridcolor": "white",
            "linecolor": "white",
            "ticks": ""
           }
          },
          "title": {
           "x": 0.05
          },
          "xaxis": {
           "automargin": true,
           "gridcolor": "white",
           "linecolor": "white",
           "ticks": "",
           "title": {
            "standoff": 15
           },
           "zerolinecolor": "white",
           "zerolinewidth": 2
          },
          "yaxis": {
           "automargin": true,
           "gridcolor": "white",
           "linecolor": "white",
           "ticks": "",
           "title": {
            "standoff": 15
           },
           "zerolinecolor": "white",
           "zerolinewidth": 2
          }
         }
        },
        "title": {
         "text": "Yolo v3 predictions"
        },
        "xaxis": {
         "constrain": "domain",
         "range": [
          0,
          512
         ],
         "showgrid": false,
         "visible": false
        },
        "yaxis": {
         "range": [
          320,
          0
         ],
         "scaleanchor": "x",
         "scaleratio": 1,
         "showgrid": false,
         "visible": false
        }
       }
      },
      "text/html": [
       "<div>\n",
       "        \n",
       "        \n",
       "            <div id=\"813b5acd-16bc-47d3-975a-d8e28d6c5d5f\" class=\"plotly-graph-div\" style=\"height:525px; width:100%;\"></div>\n",
       "            <script type=\"text/javascript\">\n",
       "                require([\"plotly\"], function(Plotly) {\n",
       "                    window.PLOTLYENV=window.PLOTLYENV || {};\n",
       "                    \n",
       "                if (document.getElementById(\"813b5acd-16bc-47d3-975a-d8e28d6c5d5f\")) {\n",
       "                    Plotly.newPlot(\n",
       "                        '813b5acd-16bc-47d3-975a-d8e28d6c5d5f',\n",
       "                        [{\"hoverinfo\": \"none\", \"marker\": {\"opacity\": 0}, \"mode\": \"markers\", \"type\": \"scatter\", \"x\": [25.6, 486.4], \"y\": [304.0, 16.0]}, {\"fill\": \"toself\", \"hoverlabel\": {\"namelength\": -1}, \"hoveron\": \"fills\", \"marker\": {\"color\": \"LightSkyBlue\"}, \"mode\": \"lines\", \"name\": \"class=car<br>confidence=0.998\", \"opacity\": 0.5, \"type\": \"scatter\", \"x\": [230, 343, 343, 230, 230], \"y\": [143, 143, 180, 180, 143]}, {\"fill\": \"toself\", \"hoverlabel\": {\"namelength\": -1}, \"hoveron\": \"fills\", \"marker\": {\"color\": \"red\"}, \"mode\": \"lines\", \"name\": \"class=pedestrian<br>confidence=0.996\", \"opacity\": 0.5, \"type\": \"scatter\", \"x\": [61, 110, 110, 61, 61], \"y\": [129, 129, 218, 218, 129]}, {\"fill\": \"toself\", \"hoverlabel\": {\"namelength\": -1}, \"hoveron\": \"fills\", \"marker\": {\"color\": \"lightyellow\"}, \"mode\": \"lines\", \"name\": \"class=trafficLight<br>confidence=0.993\", \"opacity\": 0.5, \"type\": \"scatter\", \"x\": [284, 292, 292, 284, 284], \"y\": [95, 95, 108, 108, 95]}, {\"fill\": \"toself\", \"hoverlabel\": {\"namelength\": -1}, \"hoveron\": \"fills\", \"marker\": {\"color\": \"red\"}, \"mode\": \"lines\", \"name\": \"class=pedestrian<br>confidence=0.993\", \"opacity\": 0.5, \"type\": \"scatter\", \"x\": [365, 410, 410, 365, 365], \"y\": [140, 140, 223, 223, 140]}, {\"fill\": \"toself\", \"hoverlabel\": {\"namelength\": -1}, \"hoveron\": \"fills\", \"marker\": {\"color\": \"red\"}, \"mode\": \"lines\", \"name\": \"class=pedestrian<br>confidence=0.978\", \"opacity\": 0.5, \"type\": \"scatter\", \"x\": [117, 148, 148, 117, 117], \"y\": [134, 134, 215, 215, 134]}, {\"fill\": \"toself\", \"hoverlabel\": {\"namelength\": -1}, \"hoveron\": \"fills\", \"marker\": {\"color\": \"red\"}, \"mode\": \"lines\", \"name\": \"class=pedestrian<br>confidence=0.975\", \"opacity\": 0.5, \"type\": \"scatter\", \"x\": [148, 180, 180, 148, 148], \"y\": [122, 122, 213, 213, 122]}, {\"fill\": \"toself\", \"hoverlabel\": {\"namelength\": -1}, \"hoveron\": \"fills\", \"marker\": {\"color\": \"lightyellow\"}, \"mode\": \"lines\", \"name\": \"class=trafficLight<br>confidence=0.950\", \"opacity\": 0.5, \"type\": \"scatter\", \"x\": [250, 257, 257, 250, 250], \"y\": [95, 95, 108, 108, 95]}, {\"fill\": \"toself\", \"hoverlabel\": {\"namelength\": -1}, \"hoveron\": \"fills\", \"marker\": {\"color\": \"LightSkyBlue\"}, \"mode\": \"lines\", \"name\": \"class=car<br>confidence=0.527\", \"opacity\": 0.5, \"type\": \"scatter\", \"x\": [106, 124, 124, 106, 106], \"y\": [153, 153, 173, 173, 153]}],\n",
       "                        {\"images\": [{\"layer\": \"below\", \"opacity\": 1, \"sizex\": 512, \"sizey\": 320, \"sizing\": \"stretch\", \"source\": \"data:img/jpg;base64, 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\", \"x\": 0, \"xref\": \"x\", \"y\": 0, \"yref\": \"y\"}], \"showlegend\": false, \"template\": {\"data\": {\"bar\": [{\"error_x\": {\"color\": \"#2a3f5f\"}, \"error_y\": {\"color\": \"#2a3f5f\"}, \"marker\": {\"line\": {\"color\": \"#E5ECF6\", \"width\": 0.5}}, \"type\": \"bar\"}], \"barpolar\": [{\"marker\": {\"line\": {\"color\": \"#E5ECF6\", \"width\": 0.5}}, \"type\": \"barpolar\"}], \"carpet\": [{\"aaxis\": {\"endlinecolor\": \"#2a3f5f\", \"gridcolor\": \"white\", \"linecolor\": \"white\", \"minorgridcolor\": \"white\", \"startlinecolor\": \"#2a3f5f\"}, \"baxis\": {\"endlinecolor\": \"#2a3f5f\", \"gridcolor\": \"white\", \"linecolor\": \"white\", \"minorgridcolor\": \"white\", \"startlinecolor\": \"#2a3f5f\"}, \"type\": \"carpet\"}], \"choropleth\": [{\"colorbar\": {\"outlinewidth\": 0, \"ticks\": \"\"}, \"type\": \"choropleth\"}], \"contour\": [{\"colorbar\": {\"outlinewidth\": 0, \"ticks\": \"\"}, \"colorscale\": [[0.0, \"#0d0887\"], [0.1111111111111111, \"#46039f\"], [0.2222222222222222, \"#7201a8\"], [0.3333333333333333, \"#9c179e\"], [0.4444444444444444, \"#bd3786\"], [0.5555555555555556, \"#d8576b\"], [0.6666666666666666, \"#ed7953\"], [0.7777777777777778, \"#fb9f3a\"], [0.8888888888888888, \"#fdca26\"], [1.0, \"#f0f921\"]], \"type\": \"contour\"}], \"contourcarpet\": [{\"colorbar\": {\"outlinewidth\": 0, \"ticks\": \"\"}, \"type\": \"contourcarpet\"}], \"heatmap\": [{\"colorbar\": {\"outlinewidth\": 0, \"ticks\": \"\"}, \"colorscale\": [[0.0, \"#0d0887\"], [0.1111111111111111, \"#46039f\"], [0.2222222222222222, \"#7201a8\"], [0.3333333333333333, \"#9c179e\"], [0.4444444444444444, \"#bd3786\"], [0.5555555555555556, \"#d8576b\"], [0.6666666666666666, \"#ed7953\"], [0.7777777777777778, \"#fb9f3a\"], [0.8888888888888888, \"#fdca26\"], [1.0, \"#f0f921\"]], \"type\": \"heatmap\"}], \"heatmapgl\": [{\"colorbar\": {\"outlinewidth\": 0, \"ticks\": \"\"}, \"colorscale\": [[0.0, \"#0d0887\"], [0.1111111111111111, \"#46039f\"], [0.2222222222222222, \"#7201a8\"], [0.3333333333333333, \"#9c179e\"], [0.4444444444444444, \"#bd3786\"], [0.5555555555555556, \"#d8576b\"], [0.6666666666666666, \"#ed7953\"], [0.7777777777777778, \"#fb9f3a\"], [0.8888888888888888, \"#fdca26\"], [1.0, \"#f0f921\"]], \"type\": \"heatmapgl\"}], \"histogram\": [{\"marker\": {\"colorbar\": {\"outlinewidth\": 0, \"ticks\": \"\"}}, \"type\": \"histogram\"}], \"histogram2d\": [{\"colorbar\": {\"outlinewidth\": 0, \"ticks\": \"\"}, \"colorscale\": [[0.0, \"#0d0887\"], [0.1111111111111111, \"#46039f\"], [0.2222222222222222, \"#7201a8\"], [0.3333333333333333, \"#9c179e\"], [0.4444444444444444, \"#bd3786\"], [0.5555555555555556, \"#d8576b\"], [0.6666666666666666, \"#ed7953\"], [0.7777777777777778, \"#fb9f3a\"], [0.8888888888888888, \"#fdca26\"], [1.0, \"#f0f921\"]], \"type\": \"histogram2d\"}], \"histogram2dcontour\": [{\"colorbar\": {\"outlinewidth\": 0, \"ticks\": \"\"}, \"colorscale\": [[0.0, \"#0d0887\"], [0.1111111111111111, \"#46039f\"], [0.2222222222222222, \"#7201a8\"], [0.3333333333333333, \"#9c179e\"], [0.4444444444444444, \"#bd3786\"], [0.5555555555555556, \"#d8576b\"], [0.6666666666666666, \"#ed7953\"], [0.7777777777777778, \"#fb9f3a\"], [0.8888888888888888, \"#fdca26\"], [1.0, \"#f0f921\"]], \"type\": \"histogram2dcontour\"}], \"mesh3d\": [{\"colorbar\": {\"outlinewidth\": 0, \"ticks\": \"\"}, \"type\": \"mesh3d\"}], \"parcoords\": [{\"line\": {\"colorbar\": {\"outlinewidth\": 0, \"ticks\": \"\"}}, \"type\": \"parcoords\"}], \"pie\": [{\"automargin\": true, \"type\": \"pie\"}], \"scatter\": [{\"marker\": {\"colorbar\": {\"outlinewidth\": 0, \"ticks\": \"\"}}, \"type\": \"scatter\"}], \"scatter3d\": [{\"line\": {\"colorbar\": {\"outlinewidth\": 0, \"ticks\": \"\"}}, \"marker\": {\"colorbar\": {\"outlinewidth\": 0, \"ticks\": \"\"}}, \"type\": \"scatter3d\"}], \"scattercarpet\": [{\"marker\": {\"colorbar\": {\"outlinewidth\": 0, \"ticks\": \"\"}}, \"type\": \"scattercarpet\"}], \"scattergeo\": [{\"marker\": {\"colorbar\": {\"outlinewidth\": 0, \"ticks\": \"\"}}, \"type\": \"scattergeo\"}], \"scattergl\": [{\"marker\": {\"colorbar\": {\"outlinewidth\": 0, \"ticks\": \"\"}}, \"type\": \"scattergl\"}], \"scattermapbox\": [{\"marker\": {\"colorbar\": {\"outlinewidth\": 0, \"ticks\": \"\"}}, \"type\": \"scattermapbox\"}], \"scatterpolar\": [{\"marker\": {\"colorbar\": {\"outlinewidth\": 0, \"ticks\": \"\"}}, \"type\": \"scatterpolar\"}], \"scatterpolargl\": [{\"marker\": {\"colorbar\": {\"outlinewidth\": 0, \"ticks\": \"\"}}, \"type\": \"scatterpolargl\"}], \"scatterternary\": [{\"marker\": {\"colorbar\": {\"outlinewidth\": 0, \"ticks\": \"\"}}, \"type\": \"scatterternary\"}], \"surface\": [{\"colorbar\": {\"outlinewidth\": 0, \"ticks\": \"\"}, \"colorscale\": [[0.0, \"#0d0887\"], [0.1111111111111111, \"#46039f\"], [0.2222222222222222, \"#7201a8\"], [0.3333333333333333, \"#9c179e\"], [0.4444444444444444, \"#bd3786\"], [0.5555555555555556, \"#d8576b\"], [0.6666666666666666, \"#ed7953\"], [0.7777777777777778, \"#fb9f3a\"], [0.8888888888888888, \"#fdca26\"], [1.0, \"#f0f921\"]], \"type\": \"surface\"}], \"table\": [{\"cells\": {\"fill\": {\"color\": \"#EBF0F8\"}, \"line\": {\"color\": \"white\"}}, \"header\": {\"fill\": {\"color\": \"#C8D4E3\"}, \"line\": {\"color\": \"white\"}}, \"type\": \"table\"}]}, \"layout\": {\"annotationdefaults\": {\"arrowcolor\": \"#2a3f5f\", \"arrowhead\": 0, \"arrowwidth\": 1}, \"coloraxis\": {\"colorbar\": {\"outlinewidth\": 0, \"ticks\": \"\"}}, \"colorscale\": {\"diverging\": [[0, \"#8e0152\"], [0.1, \"#c51b7d\"], [0.2, \"#de77ae\"], [0.3, \"#f1b6da\"], [0.4, \"#fde0ef\"], [0.5, \"#f7f7f7\"], [0.6, \"#e6f5d0\"], [0.7, \"#b8e186\"], [0.8, \"#7fbc41\"], [0.9, \"#4d9221\"], [1, \"#276419\"]], \"sequential\": [[0.0, \"#0d0887\"], [0.1111111111111111, \"#46039f\"], [0.2222222222222222, \"#7201a8\"], [0.3333333333333333, \"#9c179e\"], [0.4444444444444444, \"#bd3786\"], [0.5555555555555556, \"#d8576b\"], [0.6666666666666666, \"#ed7953\"], [0.7777777777777778, \"#fb9f3a\"], [0.8888888888888888, \"#fdca26\"], [1.0, \"#f0f921\"]], \"sequentialminus\": [[0.0, \"#0d0887\"], [0.1111111111111111, \"#46039f\"], [0.2222222222222222, \"#7201a8\"], [0.3333333333333333, \"#9c179e\"], [0.4444444444444444, \"#bd3786\"], [0.5555555555555556, \"#d8576b\"], [0.6666666666666666, \"#ed7953\"], [0.7777777777777778, \"#fb9f3a\"], [0.8888888888888888, \"#fdca26\"], [1.0, \"#f0f921\"]]}, \"colorway\": [\"#636efa\", \"#EF553B\", \"#00cc96\", \"#ab63fa\", \"#FFA15A\", \"#19d3f3\", \"#FF6692\", \"#B6E880\", \"#FF97FF\", \"#FECB52\"], \"font\": {\"color\": \"#2a3f5f\"}, \"geo\": {\"bgcolor\": \"white\", \"lakecolor\": \"white\", \"landcolor\": \"#E5ECF6\", \"showlakes\": true, \"showland\": true, \"subunitcolor\": \"white\"}, \"hoverlabel\": {\"align\": \"left\"}, \"hovermode\": \"closest\", \"mapbox\": {\"style\": \"light\"}, \"paper_bgcolor\": \"white\", \"plot_bgcolor\": \"#E5ECF6\", \"polar\": {\"angularaxis\": {\"gridcolor\": \"white\", \"linecolor\": \"white\", \"ticks\": \"\"}, \"bgcolor\": \"#E5ECF6\", \"radialaxis\": {\"gridcolor\": \"white\", \"linecolor\": \"white\", \"ticks\": \"\"}}, \"scene\": {\"xaxis\": {\"backgroundcolor\": \"#E5ECF6\", \"gridcolor\": \"white\", \"gridwidth\": 2, \"linecolor\": \"white\", \"showbackground\": true, \"ticks\": \"\", \"zerolinecolor\": \"white\"}, \"yaxis\": {\"backgroundcolor\": \"#E5ECF6\", \"gridcolor\": \"white\", \"gridwidth\": 2, \"linecolor\": \"white\", \"showbackground\": true, \"ticks\": \"\", \"zerolinecolor\": \"white\"}, \"zaxis\": {\"backgroundcolor\": \"#E5ECF6\", \"gridcolor\": \"white\", \"gridwidth\": 2, \"linecolor\": \"white\", \"showbackground\": true, \"ticks\": \"\", \"zerolinecolor\": \"white\"}}, \"shapedefaults\": {\"line\": {\"color\": \"#2a3f5f\"}}, \"ternary\": {\"aaxis\": {\"gridcolor\": \"white\", \"linecolor\": \"white\", \"ticks\": \"\"}, \"baxis\": {\"gridcolor\": \"white\", \"linecolor\": \"white\", \"ticks\": \"\"}, \"bgcolor\": \"#E5ECF6\", \"caxis\": {\"gridcolor\": \"white\", \"linecolor\": \"white\", \"ticks\": \"\"}}, \"title\": {\"x\": 0.05}, \"xaxis\": {\"automargin\": true, \"gridcolor\": \"white\", \"linecolor\": \"white\", \"ticks\": \"\", \"title\": {\"standoff\": 15}, \"zerolinecolor\": \"white\", \"zerolinewidth\": 2}, \"yaxis\": {\"automargin\": true, \"gridcolor\": \"white\", \"linecolor\": \"white\", \"ticks\": \"\", \"title\": {\"standoff\": 15}, \"zerolinecolor\": \"white\", \"zerolinewidth\": 2}}}, \"title\": {\"text\": \"Yolo v3 predictions\"}, \"xaxis\": {\"constrain\": \"domain\", \"range\": [0, 512], \"showgrid\": false, \"visible\": false}, \"yaxis\": {\"range\": [320, 0], \"scaleanchor\": \"x\", \"scaleratio\": 1, \"showgrid\": false, \"visible\": false}},\n",
       "                        {\"responsive\": true}\n",
       "                    ).then(function(){\n",
       "                            \n",
       "var gd = document.getElementById('813b5acd-16bc-47d3-975a-d8e28d6c5d5f');\n",
       "var x = new MutationObserver(function (mutations, observer) {{\n",
       "        var display = window.getComputedStyle(gd).display;\n",
       "        if (!display || display === 'none') {{\n",
       "            console.log([gd, 'removed!']);\n",
       "            Plotly.purge(gd);\n",
       "            observer.disconnect();\n",
       "        }}\n",
       "}});\n",
       "\n",
       "// Listen for the removal of the full notebook cells\n",
       "var notebookContainer = gd.closest('#notebook-container');\n",
       "if (notebookContainer) {{\n",
       "    x.observe(notebookContainer, {childList: true});\n",
       "}}\n",
       "\n",
       "// Listen for the clearing of the current output cell\n",
       "var outputEl = gd.closest('.output');\n",
       "if (outputEl) {{\n",
       "    x.observe(outputEl, {childList: true});\n",
       "}}\n",
       "\n",
       "                        })\n",
       "                };\n",
       "                });\n",
       "            </script>\n",
       "        </div>"
      ]
     },
     "metadata": {},
     "output_type": "display_data"
    }
   ],
   "source": [
    "yolo_boxes = yolo_v3(image, net, output_layer_names, confidence_threshold, overlap_threshold)\n",
    "\n",
    "yolo_fig = display_images_with_bbox(image, yolo_boxes, 'Yolo v3 predictions')\n",
    "yolo_fig.show()"
   ]
  }
 ],
 "metadata": {
  "kernelspec": {
   "display_name": "Python 3",
   "language": "python",
   "name": "python3"
  },
  "language_info": {
   "codemirror_mode": {
    "name": "ipython",
    "version": 3
   },
   "file_extension": ".py",
   "mimetype": "text/x-python",
   "name": "python",
   "nbconvert_exporter": "python",
   "pygments_lexer": "ipython3",
   "version": "3.7.7"
  }
 },
 "nbformat": 4,
 "nbformat_minor": 4
}
